{
  "cells": [
    {
      "cell_type": "markdown",
      "metadata": {
        "id": "view-in-github",
        "colab_type": "text"
      },
      "source": [
        "<a href=\"https://colab.research.google.com/github/my-temporary-name/python-vs/blob/master/ES654_Prerequsite_test.ipynb\" target=\"_parent\"><img src=\"https://colab.research.google.com/assets/colab-badge.svg\" alt=\"Open In Colab\"/></a>"
      ]
    },
    {
      "cell_type": "markdown",
      "id": "c18f3f47",
      "metadata": {
        "id": "c18f3f47"
      },
      "source": [
        "\n",
        "#     Ankit Yadav - Mtech Work and Study - CSE - 22270001 - ankityadav@iitgn.ac.in\n",
        "\n",
        "\n",
        "\n",
        "\n"
      ]
    },
    {
      "cell_type": "markdown",
      "id": "e436291e",
      "metadata": {
        "id": "e436291e"
      },
      "source": [
        "### Question 1: How many multiplications and additions do you need to perform a matrix multiplication between a (n, k) and (k, m) matrix? Explain."
      ]
    },
    {
      "cell_type": "markdown",
      "id": "a9dac505",
      "metadata": {
        "id": "a9dac505"
      },
      "source": [
        "**Number of multiplication** = n*k*m\n",
        "\n",
        "**Number of addition** = n*(k-1)*m"
      ]
    },
    {
      "cell_type": "markdown",
      "id": "c8a98897",
      "metadata": {
        "id": "c8a98897"
      },
      "source": [
        "### Question 2: Write Python code to multiply the above two matrices. Solve using list of lists and then use numpy. Compare the timing of both solutions. Which one is faster? Why?"
      ]
    },
    {
      "cell_type": "code",
      "execution_count": 77,
      "id": "184e3857",
      "metadata": {
        "id": "184e3857"
      },
      "outputs": [],
      "source": [
        "import time #to check execution time|\n",
        "import random\n",
        "import numpy as np # let's import numpy"
      ]
    },
    {
      "cell_type": "code",
      "execution_count": 78,
      "id": "5fff63a6",
      "metadata": {
        "colab": {
          "base_uri": "https://localhost:8080/"
        },
        "id": "5fff63a6",
        "outputId": "6a0ae5bb-a667-47db-fa94-f805cedcf733"
      },
      "outputs": [
        {
          "output_type": "stream",
          "name": "stdout",
          "text": [
            "\n",
            "The execution time of matrix multiplication without using numpy is:  190.53912162780762 ms\n",
            "4.5 s ± 9.87 ms per loop (mean ± std. dev. of 7 runs, 1 loop each)\n"
          ]
        }
      ],
      "source": [
        "# input two matrices of size n*k and k*m\n",
        "start=time.time()\n",
        "n=256\n",
        "k=512\n",
        "m=128\n",
        "\n",
        "matrix1=[[random.randint(0,100) for i in range(0,k)] for j in range(0,n)]\n",
        "matrix2=[[random.randint(0,100) for i in range(0,m)] for j in range(0,k)]\n",
        "\n",
        "\n",
        "\n",
        "def mult(matrix1,matrix2):\n",
        "  result = [[0 for x in range(len(matrix2[0]))] for y in range(len(matrix1))]\n",
        "  for i in range(len(matrix1)):\n",
        "      for j in range(len(matrix2[0])):\n",
        "        for k in range(len(matrix2)):\n",
        " \n",
        "              result[i][j] += matrix1[i][k] * matrix2[k][j] # resulted matrix\n",
        "  return result\n",
        "\n",
        "end=time.time()\n",
        "mult(matrix1,matrix2)\n",
        "print(\"\\nThe execution time of matrix multiplication without using numpy is: \", (end-start)* 10**3, \"ms\")\n",
        "\n",
        "\n",
        "%timeit res=mult(matrix1,matrix2)\n"
      ]
    },
    {
      "cell_type": "code",
      "source": [
        "start=time.time()\n",
        "result = np.matmul(matrix1,matrix2)\n",
        "end=time.time()\n",
        "print(\"\\nThe execution time of matrix multiplication using numpy is: \", (end-start)* 10**3, \"ms\")"
      ],
      "metadata": {
        "colab": {
          "base_uri": "https://localhost:8080/"
        },
        "id": "YTAH849Rr0Y4",
        "outputId": "3159aaae-c0ea-474e-cf61-55fa19d9a29f"
      },
      "id": "YTAH849Rr0Y4",
      "execution_count": 79,
      "outputs": [
        {
          "output_type": "stream",
          "name": "stdout",
          "text": [
            "\n",
            "The execution time of matrix multiplication using numpy is:  55.33432960510254 ms\n"
          ]
        }
      ]
    },
    {
      "cell_type": "code",
      "execution_count": 80,
      "id": "581f2e91",
      "metadata": {
        "colab": {
          "base_uri": "https://localhost:8080/"
        },
        "id": "581f2e91",
        "outputId": "5935b0d1-2a11-4c28-8b55-68a6d55cfa7a"
      },
      "outputs": [
        {
          "output_type": "stream",
          "name": "stdout",
          "text": [
            "44.9 ms ± 448 µs per loop (mean ± std. dev. of 7 runs, 10 loops each)\n"
          ]
        }
      ],
      "source": [
        "%timeit result = np.matmul(matrix1,matrix2)"
      ]
    },
    {
      "cell_type": "markdown",
      "id": "5d58fe0a",
      "metadata": {
        "id": "5d58fe0a"
      },
      "source": [
        "Multiplication using Numpy is significantly faster when we do large matrix operations because Numpy is in-build package in python for array-processing and manipulation. Also, NumPy package breaks downs a task into multiple fragments and then processes all the fragments parallelly."
      ]
    },
    {
      "cell_type": "markdown",
      "id": "8bff17d4",
      "metadata": {
        "id": "8bff17d4"
      },
      "source": [
        "### Question 3: Finding the highest element in a list requires one pass of the array. Finding the second highest element requires 2 passes of the the array. Using this method, what is the time complexity of finding the median of the array? Can you suggest a better method? Can you implement both these methods in Python and compare against numpy.median routine in terms of time? "
      ]
    },
    {
      "cell_type": "code",
      "execution_count": 84,
      "id": "e5395247",
      "metadata": {
        "colab": {
          "base_uri": "https://localhost:8080/"
        },
        "id": "e5395247",
        "outputId": "364ca283-8fc7-4b85-a4ad-5fbec3592fa8"
      },
      "outputs": [
        {
          "output_type": "stream",
          "name": "stdout",
          "text": [
            "[81, 14, 8, 77, 85, 52, 46, 59, 21, 49, 52, 16, 97, 75, 31, 23, 34, 67, 86, 38, 61, 80, 53, 10, 57, 23, 32, 80, 47, 31, 56, 5, 41, 55, 33, 70, 47, 65, 89, 41, 52, 8, 64, 62, 16, 91, 31, 68, 5, 33, 39, 42, 35, 75, 64, 88, 64, 42, 79, 51, 54, 76, 65, 10, 72, 8, 83, 24, 58, 89, 75, 59, 71, 85, 61, 16, 64, 95, 89, 80, 26, 7, 85, 6, 11, 23, 89, 9, 57, 46, 47, 88, 85, 9, 51, 30, 17, 77, 59, 29]\n",
            "52.5\n",
            "\n",
            "The execution time of finding median one by one passing array again and again is:  3.9277076721191406 ms\n"
          ]
        }
      ],
      "source": [
        "# Method 1\n",
        "import random\n",
        "import numpy\n",
        "start=time.time()\n",
        "# Function returns N largest elements\n",
        "def Nmaxelements(list1, N):\n",
        "    final_list = []\n",
        "\n",
        "    for i in range(0, N):\n",
        "        max1 = 0\n",
        "\n",
        "        for j in range(len(list1)):\n",
        "            if list1[j] > max1:\n",
        "                max1 = list1[j]\n",
        "\n",
        "        list1.remove(max1)\n",
        "        final_list.append(max1)\n",
        "        \n",
        "    return final_list\n",
        "\n",
        "\n",
        "    \n",
        "\n",
        "list2 = numpy.random.randint(1,100,size=(100))\n",
        "list1=list2.tolist()\n",
        "y=list\n",
        "y=list2\n",
        "print(list1)\n",
        "\n",
        "# median will be for sure len/2 th element if len is odd, \n",
        "# else (len/2 th element + len+1/2 element)/2 if len is even\n",
        "\n",
        "x=len(list1)\n",
        "if x%2!=0:\n",
        "    a=Nmaxelements(list1,int(x/2)+1)\n",
        "    print(a[-1])\n",
        "else:\n",
        "    a=Nmaxelements(list1,int(x/2)+1)\n",
        "    print((a[-1]+a[-2])/2)\n",
        "end=time.time()\n",
        "print(\"\\nThe execution time of finding median one by one passing array again and again is: \", (end-start)* 10**3, \"ms\")"
      ]
    },
    {
      "cell_type": "code",
      "execution_count": 85,
      "id": "81c79475",
      "metadata": {
        "colab": {
          "base_uri": "https://localhost:8080/"
        },
        "id": "81c79475",
        "outputId": "e5d23d99-d24e-49fc-9409-3f657318d62b"
      },
      "outputs": [
        {
          "output_type": "stream",
          "name": "stdout",
          "text": [
            "Our 1ist1:  [81 14  8 77 85 52 46 59 21 49 52 16 97 75 31 23 34 67 86 38 61 80 53 10\n",
            " 57 23 32 80 47 31 56  5 41 55 33 70 47 65 89 41 52  8 64 62 16 91 31 68\n",
            "  5 33 39 42 35 75 64 88 64 42 79 51 54 76 65 10 72  8 83 24 58 89 75 59\n",
            " 71 85 61 16 64 95 89 80 26  7 85  6 11 23 89  9 57 46 47 88 85  9 51 30\n",
            " 17 77 59 29]\n",
            "Median of list1 is: 52.5\n",
            "\n",
            "The execution time finding median by sorting array is:  4.061222076416016 ms\n"
          ]
        }
      ],
      "source": [
        "# Method 2\n",
        "\n",
        "start=time.time()\n",
        "list3=[]\n",
        "list3=y\n",
        "print(\"Our 1ist1: \",list3)\n",
        "\n",
        "list3.sort()\n",
        "mid = len(list3) // 2\n",
        "# we access the list from front and rear, performing the required computation required for finding median.\n",
        "# using ~ we can access the list from backend. Hence (5+4)/2 = 4.5\n",
        "res = (list3[mid] + list3[~mid]) / 2\n",
        "\n",
        "# Printing result\n",
        "print(\"Median of list1 is: \" + str(res))\n",
        "\n",
        "end=time.time()\n",
        "print(\"\\nThe execution time finding median by sorting array is: \", (end-start)* 10**3, \"ms\")"
      ]
    },
    {
      "cell_type": "code",
      "execution_count": 86,
      "id": "ed24c9d8",
      "metadata": {
        "colab": {
          "base_uri": "https://localhost:8080/"
        },
        "id": "ed24c9d8",
        "outputId": "380df4ba-01b4-4d18-c29b-112241bfc091"
      },
      "outputs": [
        {
          "output_type": "stream",
          "name": "stdout",
          "text": [
            "Our list1:  [ 5  5  6  7  8  8  8  9  9 10 10 11 14 16 16 16 17 21 23 23 23 24 26 29\n",
            " 30 31 31 31 32 33 33 34 35 38 39 41 41 42 42 46 46 47 47 47 49 51 51 52\n",
            " 52 52 53 54 55 56 57 57 58 59 59 59 61 61 62 64 64 64 64 65 65 67 68 70\n",
            " 71 72 75 75 75 76 77 77 79 80 80 80 81 83 85 85 85 85 86 88 88 89 89 89\n",
            " 89 91 95 97]\n",
            "median of list1:  52.5\n",
            "\n",
            "The execution time of finding using np.median is:  2.541065216064453 ms\n"
          ]
        }
      ],
      "source": [
        "# using numpy.median\n",
        "\n",
        "start=time.time()\n",
        "\n",
        "print(\"Our list1: \", list3) \n",
        "print(\"median of list1: \", np.median(list3))\n",
        "\n",
        "end=time.time()\n",
        "print(\"\\nThe execution time of finding using np.median is: \", (end-start)* 10**3, \"ms\")"
      ]
    },
    {
      "cell_type": "markdown",
      "id": "3343e574",
      "metadata": {
        "id": "3343e574"
      },
      "source": [
        "### Question 4: What is the gradient of the following function with respect to x and y?\n",
        "![image.png](data:image/png;base64,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)"
      ]
    },
    {
      "cell_type": "markdown",
      "id": "e67b605b",
      "metadata": {
        "id": "e67b605b"
      },
      "source": [
        "![image.png](data:image/png;base64,iVBORw0KGgoAAAANSUhEUgAAAYIAAACWCAYAAADTyo+wAAAgAElEQVR4nO3dd1gUxxvA8e/eIYdEEBsamgXEEo0NFEIUNYoaRY29t2hssdcoaoztl2gSK4qJNZbEEhO7EnsUjAVjQcUCgoIiqAGCHnDs749DlIByBxygN5/nyfOYO27v3b2ZfWdnZmclZ2dnGUEQBMFoKQo6AEEQBKFgiUQgCIJg5EQiEARBMHIiEQiCIBg5kQgEQRCMXL4kAudGLWlYvUh+fJWQ32QbXJt/hJu9sqAjeWOJ+vF2K+falGau9gUdxmsZPBHUm7GV9d8Mwbu8rV6fcx3ly+79/hw8eZ4Lx3/jm/bvGCjCghXfcBRr9hzjjx2/cjAwiL+2zcITqaDD0kvFTj6sWO9Hf3uTgg7ljSPqRzZS3Rmxeicn9u9gu38AF07+xizPogUdlV6eVevEtOWbWNXPsaBDeSWDJgKrPr58196eiF++ZOK+MJ0/l9BgKpO6OBPx8xCadPHjnNIBrwl+DH3DTpC6+GJYb2qX/ZfLq3rTyj+cIo5tGDe9dEGHpTspki2DprA/sQ6jfee+cUmsIIn6kb2Q8cMZUMeehEtradv3IHfMy9NuxJSCDksvT9YPY/ShR9T9fAnzC2kSy3EiCBnqy7HAIIKCgggKOs3WMc4Z3k+2Hcy3g90ocWs3M76/oNe2I5vXxtG8FB6tulPknh+BN54im1fmw8+K5zTcQuthTCxJiTKUeNG1UsT8gwKMKAcUAfT3O859u+Z8+V2zgo6mUJBTBrPsSEBa/QjizKaJvNw5IOqHbpQPYniYGA/KkumvyeYqvN+wpBc0/keOPi6H15R5hbKxlONE4Lx8GI3qreGyBiCWsIMZWzRtJn9CXfNHnN2yiWA9t23rf4jjwbe5eO0aAP+okwAwfeft64f+ZUQLGjRqzeh17zGnrh1SfAhHft+fo20l245kQ+B5bWIe75z9B/JQ2d/nc/BaKlaNhjPNQXQRSSZ+DG/izqprGgBiQw8R8dL7on7oxnHjaLw8GtFq7Brqj6qNAwmEHN7JLvRfEKEg6wfKXXxxMJhUa0/GTc3n79ZBrrqGwntVwUEJitgwTl9JTn9dTh5Jb1drFDFhHAq4o/d23zm9glE9O9JrxjaSbQfTokZxFDGX2Lvtn9yEW2jd6DObdT+Np24pBY8uHWB3gDpH21HblsZCJQGmFCvrkLdBZkeKZNn5q6AsT5NxbfL3uwspWdORauUUQCxhZ66/eF3UD73Imu7MXr0On7rWKB5cYs/e0znaToHWDyB+0wUua6B8k1GF7oomV4mgZV07LIGk6DBOv5Shb0yqz3sqiYSwADZGaHL+BbIzA77qTo3EK2yd/TlrIlJyE67Oxm45x8kVvfPluwAqr/ehb9+O1Jp7lOQPRrBu08QcbafYX9MZ/Nk4pviMZNyEP/I4yuw9nRPMTaDUe150KmQFvSD86+6KnZWElBhL6Lln6a+/6fWj/ZL9XNw2K1++C0BSbsZnQF86Np3LYaUbo1dvZHIOyldB148i9xZw9XYqqaWcaV3IBvdzlQg+ctDOdIi6sTPDZe/89ysCSUQGn8j5xmUbuqxcwohywawZPYC/3x9FP3dVbsLVmZkJoDQ1/BelujNu41H+3DaLTkhYb3tIHGDi7JKjgg5w/8xh9u05oXd3Q16QihzkVqS2oDf0NCuACAqXyA/tcAAUD0PY9NJJ+k2vH6amKmSVivyYEOkyYQPHj+zgq/bvgHIXD+NlZFVl6o0vmf2Hs1CQ9QNgR+hdoBRVGrkXUARZ070zV3amw+wZDGnqiCVgpkwgWqO97A09/OLyVtZ0pHb5osAjIs9HZNqMulp/li/oh5uVCpW5xONj29hTpjWdHc1QmSRzfmk/Pl3zlE++Wc4Iu1tsWbWbO+VH07NbcxJCl7IWbbeJ66jVzOlenTImKpLDdjOh03SOISNruvP1/iF8mHCMCV2nE5DLA5RTOsXXIYbaVYpTLLEildxNiS5TBksgOSqMK1ltVLahw+xFjG5alqToGFKtbSiuAbN/jtP649OM3z8eTxvtCfjB3h60nHqVcRtO0blqUVRKUEQEsDXGEa8qxTFVqTBLiSJgxQiGrr2V9U7IzvRduoBP61pjqlIhxQTw8zFLPmnnhKmJCk3QUroNWvWiESCd5dbDZ2BTChu3d+DY07w/sIVYpa6zmNW/GY5WEphA/GPtVXLs7ePpxyi7+qHbMd+HSzb1I77hKLZN70a1EmaYpdxh16TuTEv7Pbot2Mmw+k85PqkvPgHPMseQD3SN737dqlhYPMXRqQ5oSlDGQkJSRxF6Leu4S3aaxcrhzSirvk805bC1SAbzBP70XoOJ39iCrR/A72GxPMOBUrYNAP88PKK5o9sVgexMn5V+TGvjxJO9c+ns0YFl14pSxlxCir/P1dsvxgfQVMHaSgL+JT40OeN2NN74Lh6Ba+TPDPBwY95fiZTw7EFv+7v87B/BM2UxXNv3I2T0N0z0cqCYjTs9p81h7pwevKd6xL2L2kKe0GAqk7o7EbF6MFvDUyni2Jg+vS0AuPF5czxtLLEwN6Ogekx1jq/IYnxWHCMCB7wmbubv8e68E3aKbQumZzkY9qDdBAa3sefBjpE0+6QDXu5jOBKvvRFJUm5ndGt35v31JMNnvu31ASUXBxAHpNq700qzl4ndPCi5Ioinqnf5oNe4V3bjtFy4mDE1otn0WUNKLg7gWVl3+nQpT/jWQ9xNkTF3acuQ/xSh6ETtwKWNU7vcHsY3SvmBvqyZ3Abnf/Ywu7MHzVYFU6y0GZBA5LXQF3/4uvqBbsf801Gvrx/ILswb2xXnsPV8susmsqo8TXv10L6VMpjm7nZYWFigiks1/IHJih7xffvVMo49SMWhxTi2H57AByZ3OPXLfCbu/jfzdjXeTBvcmvJROxjc8hM6tnRn6J+PUQEodhSK+qF69JQkINWmAgMKUfepTlcENabNYWh9K5S3tvPlHG030ITQSIbVckIRdY09L132plRQYQpICQ+5HZ6x/9NscleamJ1n0Vc/EAzUSHv98dl1PLKeghkQc+c6Hy2ahvuiV8fTsVdDKj8MpNue5kz5TAGaKMKOJQIwyNkGMyA2/FyBXf7pFd+Po/H+Ubft/lPHDmtUFHGqiT0XiFAEEBhyj49sXt+qU6b/DFGcWricwAgNlX1vcnd4HZxKVcDNQcm28Iz9y8m24+nZ8B3OLZ3HiivJUE/7uiL6HEsfleBrlYTiwT2C7SVebvLMfxDDl1hhapIPXWuFREKDqXw70A1LzR1+/eobdkdokBfd5O5ndXDSRHFt/4sZda+rH7oe8xu/juDLRa8eW3jQrieeFZ5waupuekwbCEDkTW03VGzbqtiZS5kmeOQnfeJTsYbRrdfotF1ZUxO70hKmOFPHXklwhIbfzofy1Yfv8roakp/1w+Gne0RPhuIKM/KnI0832ScCjTefejpiBlw/syX95Opjo73pKfbe6QyXPuFNymD1ik1ZHV3NFxf+5XJECsgu1LWzBBK4ffE269c2Yb2OQYduXcgXhBPaYwo1lKAMucja8BSQbWjqWAZIIvZmkI5by3uGiq/kmVtEt3fCusFYdp79jMjQUEKOrKTDmN1k0cmQiZQQyVUdK7+kOMaaGRdIvKg9ibV7zxZLICH8EvfWrMIzm7ppWroi9qBTXG+6jr0a4qiSUIacZe0V7RXRjYF2WAOK2EiOv3TCf139yO0xf87q5jYW+igI+6crUyorQHODi5tvA1DWvRLWZJ7gkZ8MFZ9kcpabDzriVLYe43eeZUhkGGHXjuDXbRy7dRiUz8/6IZuXxNFBCeH5M8CfnWwTwZ0eLalbWgKiCNud1rJJ9cK9UnEggdtBuk/lun/mMPvS/i0ne+Fok9ZaPqzfFLqQ4/sJkW2YMroaANfPbyECkFM6UclGAdzn+vbb2W6nj+8BhtXK4iYclQKVwyACTw7K9Fb0H6NoO+P1+5xX8f1X6b2T8alsybQubtibF8PGqSY2TjWpX6dspr7I3DKJOMPhlzb4SUU7QNtyM4aTu65kTUfa1rAGIPLmvvRjM6hOpfQTwzEdT2h5dcxVwSfZFwwmM0ZmbIgAQ52ynuCRlYoztrLZK4shYZWKVBqx9WRgprcSL62j6ZDl+RJfJoqDfD6nGj9N7oa7jRnFbCpQw6Y/Neu/T5keQ/J0VtXbVj+yTQTqqtZYkjFbJtu5YldaQkqMJOSoDR6ta/E4bSS++GM1z4Ds7nFMbzFFhbE9rRA4N2pJ2ZhDnAjOPivLKZ2o5qDg5QR1u19V7X0N0aH4h2ffAlg/rEWWVyFTfj1H69gf8Bi0KtttGDK+/4puN5SO0gmGewwj2bUprdoOpV8bJyxdujPecxOjDDQ4K2u6Y1suY2NAXd2DT0o/Zu/xrDvgpMQ4g8RS6KT3+Sdw79oN7WuyDR7ltVd+kcEnMpRrXetHTo75fw2pWhF4kaBkTXeq2Wae4PEqoTM74zYz8+td/I4w1eYMnb0n5uqkl9v4MtF4M7GFCSeHfMhn1KVZs3Z83v9jHC3q0WdME9aMNczgbI5+K01CgY1hZiX7weJ47QCU9OQR/mktm9B2jtgB0qM7bG4zkW+nfI532oJjpX7TToGkiCXW/9lU1yUHCAoK4vCi9i9aTPevEwzIKf2YNO9LhjSpoFvkcjHMlBkTVJv3X1ye3S6gy15DxvekdlNa9OpKPwcT7p85zJppnWm6OxxQUaxi3vbJ3+q5kANng/j7D18+9q6Pk4WUYV8GjvuGmQO9Mk0hbGeujSM+LuqNbBnpTUrgmQYgnsdp40CyxhvHshIQS9j+pkya9yUjW2hPeq+rHzk95q9iqUpLUDduAvCvey3sLCSkhDAu3C6Y8YGX5XV8sqYmTVv3omsfJ0wiznB0jQ/tuu0iHDC1yNsbyHL6W/37oaV2jOhpHPdy0Bg0lGwTQcVftHfDUbQYDZCIbziBv7rXxgztSdzTpQrKWwEv5kkrQ4mOl5FVxSjt8NIt7xpv3KpqW0nx8U50qaetBknx4SDb0HVVX1yenmfvTh27TBSRxCXKyEVLY+ugJK6hD7M8tYe9UFyeGSo+ZXlaTuubXsCaWamQ1FGEHMpiFkUuDHOrirUS1AnxVG5XG2tASkzgFtrF0gbWesrZ3Zkv32taWQIQH63f+jlvKslkGxdupAKmFKtrBqnujN/Wnbrm2hPD3x71eY+bnNyWVq5fVT/I+TF/lYjHz4BilLEtB6nuzP2ikfa+hsgw/sinm89ex1DxObSckL4S7iMXS8xQE3k9F/dsZCGnv9WDypZYoW1YBxZ0Y/UlkrOzc7bRuI7yZXpHN6zUsciqJEJ2nyDBsxWNS6lQJ93n2LzRL1ZPlG2YuWsXbe0TOb+oDZ+ufXEBVG/GVr5vVRaeFkEReZwjNKB5FSXxMakUfXqZ31fOZ74eqzDWGurLrF5u2KuSUKeoUKkAovijV3smpA3a5YS2a8g3V11DhogvZMZWEluV4O6TIhTnEdGUxE71iKMrpzNxvRcb/+qMk0qFSglo1KSE7Obn1I/T50kDSOooTgQ+wdWtWlo8IKnVRJ1eSqtRG9K/K66hDwfntMFak4SKKA79mYJH8+oo4mOQTRK4vGc18xbsylTQp/x6js4VEwle3p+eK2/m5LC9ceIbjuKnyR34wCKZaExJuXaAI+oGtHG3RqVO4sHRb/l86u/aY/Wa+pHTY/4q/zYYwrrpfXG3MUOtVqMyUYESHuwdSMup53K8v8+7htrksmsor+OTk6aw7UpbSkTGY2ohERObSmlrMx4f9eOLieWYUgjqR8iMrfzb3onECyvp1n95wTdY0+iUCPTl+f1+FjYum+sC9zrlXJtSx+pfLvtrZy2FDFxN7PA6mEcdZeTHY3UeoMtKXiQCQ8ZXWMma7vienMAH5jf5tUMPZhWSGRGFTX7UjxR7V7zeL07ixSMERmiQU/qx+vRI6prf5/jojrkaT8qLRGDI+AqzLn5H+KK+FTd/7krnr0MKOpx0Blkmcrv/VaY0LotNlVbYcy7Ps15C/a/w8/PGgQTOf9eaT9c7s/bjWpiRRIj/ulyfZO8+jCHmcc4HOw0dX2EVm9ZX+vIsECEzQ9cPZBfmLFtBW3sFiWeX4jFoFTVmtaauuUTK1aP45fIkGxMdQ4zpvUIbX6H1fLblS9NlCwuDPJim9J6NBEakoqngQj8DLEkcW7EUVoAi5jp/HrWk6exJeFdUkHh2rd5ru2dl/eAWtJu8tdDGV1j1bFUNa5K4dPyXPD+5pdj1wNf/PEFBf7CwTeFasEtfhq4fcmp5SltIoInl2smjlGkxi5mtHJGenGPVnO9zfaPl4Wmd+aj/ohz/xoaOr7B60L4V1UtLpASfMlxDSbahi692Us6R79rr/DHDPKFMOkuvX04TpyxP09FN8nzz5TdvYGfwP6SWqMfgrduY52nOlc2zGTRoeaEoRIU9PkNIth1Ml7rWKO4eY+WyvB8bePL++9iVkFDEhHEtNOfjP4WCgeuHpNzOmr3BxFGKekM2smumJ+YXtzNr+FDtXbAFrLDHZxCyDT4d6mOtieLoKj/DjQ3INahbvjRoYrn98tIm2TDIGIE2IBu6rNzIF/Ueiv5iI9Dy+/3Ma5iK/7Rhej12Mb/JyePY9nd74r/9mAGb4wswEFE/jMmDtt9zYWZj5L1fMuj5xIFCxHDPLJYi2TTrBwIeO9FpmXiW7dvMqo8vXzS0IvyAH0sKcRIAQNbOTJFVBn1cd/ZE/TAaKXY92DbGkxI3D7J0hW7LweQ3g9YGk7ub+Kz/Ag7EOdL+LXyeqgCkNmbQh2W5sWPOiymSeSi+4SjW+AcQGBjEheO/4PMWPedA1A/j0Lh3Q2xvbOersVN0WvMoJ9TV+rNwzzECA4MICjrB1klN9fq84bqGBCG3ZBdm7vKj2YMfGXS/JRvbOKTPMsnxJpOmsO1KK+L+M4dfEN5YGm++PzyT+mE/MKhvCWZe6UzlhHMsbjiI1TrOUCzg62NBeLUH7XribhPB/u9308rJjlw/1UsQ3kLPl/f/8asf2NfbVnuXszoJfSbAv3buWlBQwS3lLBivOnXqANrlir+foeBWsUHMr6pASrzxYqmGQkDUD6EgPK8fz1WLvshW332siUhJf458QsQlvZbxFl1DQqFXfe7vbGzlQMqldXTos1CncQg5pR/LjwymrnnmQViVuQpJrU5bLO5l9/ljRFd8zqvzImxByHefbz7Lp1WVet+5bJA7iwUhz6R6McjVHkjg4uFdFG3UkoY6LFUumaxlWPO1mV5PHyNYIcYIhLfLy8t4RwbqN21DjBEIhdrzuzEVMdc55N9Iv6XKBcGI5GYZb5EIhELtn/e1DzBKuHuO+0PaU/OfADbrulS5IBiRSC/HHC/jLRJBHvlg1ta0ObxBBAX9wSLPogUd0luh0todBMTImNf8jHmez/h9ySKDzcUWDCtkqC/H0uvIabaOcS7okN4q851sgIyPTNWVGCPII6emdcYp4HvOzWlM2ULyBKi3gcndTQxrvqmgwxDygPPyYTRaPJINf/enhjKWsIOF/C70N0mqF9VtiwKxhJ25rvfHRSLIQ4/qpj2HuZA8AUrIgiKShw9iSHgifp+CEN6riva53bFhnH5bF5jLJ/ENR7F6SCPeubiMbkeaUqm0dnzg9Llnem9LJII89PzSLPbe6UK5noiQNpuoZebZREL+eD7PPSk6TK957kJmXwzrTaOqSpTKFnzn1hAHkgg/vJk1OWiEijGCvJJ+aZbA7aDTBR2NIBRKHznYAhB1Q/dnLwtZC7gWSpwGUit40sLqAUd/HMvwGYdytC1xRZBDKXYtGDt5EJ1c7DBFRdH4GJ6UlpASIwk5mghoF4JavqAfblYqVOYSj49tY0+Z1nR2NENlksz5pf34dO2tAt4TQTAQ2ZkOs2cwpKkjloCZMoFojXaee+jhOyDb8Mk3i5nk6YhKBY9PL6HvkNVEAP82GMUv/+tGheAfaDp8dQHvSOF0bmZnPGfmzbbEFUEOpNi1YO6SGfT3sOLKokG41R/GvqSSWALSozvsikgBjTe+i0fgGvkzAzzcmPdXIiU8e9Db/i4/+0fwTFkM1/b9CnpXBMEwZGf6rPRjWhsnnuydS2ePDiy7VpQy5hJS/H2u3k7mVi8fxniacPzLbzkVL1OiQTuGpJ2SXDo0pY6VGSpzFfYFvCvGQCSCHOgxZTLeFYry+PQ65m6+BIoAzt/VLvEUG36OYDIuBPXyU8ken13HI+vSmAExd66LQi68lWpMm8PQ+lYob+3iyzk7iSCSCaGRACiirrEnwhrfNg1QXtrF16b1cLKQUMTeIyht3OB5F1LktUOiCykfiK4hPSXbjse7vhUQS8j+HdpCKtvw3ruWQBKxN7ULkVkdXc0XF/7lckQKyC7UtbMEErh98Tbr1zZhfcHtgiAYlsabTz0dMQOun9mS3hDysSkNpE2mkOH4ah/+fnIZlz6dsQZirx9jG3KulkoQckYkAj2F9m9ADSVI8fe5kDZNS07pRCUbBXCf69u1d73eP3OYfWmfkZO9cLRRgCaKsMN3CiZwQcgnd3q0pG5pCYgibHfavQKpXrhXKk76ZAopjjP+kcia7vh+aw3EEuK/B4BY7/o4pS2V8Pcx/adCCvoTXUN68rHXtmoUj0LZkzZN63a/qtq50dGhHJTr8FHzBhm6fG4MTLu/ICqM7WnPpnVu1JKG1Yvkc/SCYHjqqtba8bKESK6m3SuQbOeKXfpkChs8WjekOhlP+s/nv5dz1daX5IgQ/MUU03whrgj09CBRu0Rx/MOw9L7LNu/batcAj7xO/Oc+rK0dyta2X9HxQ2seH5/JzNRK2vfvXycY7RLJk+YNwWzTLU4E3yigPREEA4nX1hHpyaP0E3loO0fs0E6m2NxmIlt6vcOOiwHsKqHCLO1vn9+E2b9i2v04oWJ8IL+IKwI9bTlylWjAwvJdAKz6LGSRpwMA8ZEhtK9mR+TfUZSqWgZIIj7eiS71rAFIig8H2Yauq/ri8vQ8e8XiacJbqOIvF7isAYoWowES8Q0n8Ff32pihbQx5ulRBeSuATREplL0RwxNALlaSRkhY9fGlVy1zcrpUgpAz4sE0+pJt6DB7EaOb2yPFJ2FqEsuRX4Ow79CK94pKxMdfZuPooZzptInvW5WFp0VQRB7nCA1oXkVJfEwqRZ9e5veV85m/T6y1IrydXEf5Mr2jG1bqWGRVEiG7T5Dg2YrGpVSok+5zbN5oJqaV/49nbGWStxPFU9Q8Q4VKBVLCORb1GJKju2QF/YlEIAhCgXFu1BInwtl7XDu3KCdPoxNyT4wRCIJQIEIGriZgeB3MCMejzidM0XRl+If2QBSnNv8mkkA+EmMEgiAUjHIWmAHJty5yUHai74+f8YFFMuF7/Vgguk3zlegaEgShQKTY9WCp3wg8y0qoU0B6GsXRdfNZuvaUuBrIZyIRCIIgGDnRNSQIgmDkRCIQBEEwciIRCIIgGDmRCARBEIycSASCIAhGTiQCQRAEIycSgSAIgpETiUAQBMHIiUQgCIJg5EQiEARBMHIiEQiCIBg5kQgEQRCMnEgEgiAIRk4kAkEQBCMnEoEgCIKRE4lAEATByIlEIAiCYOREIhAEQTByIhEIgiAYOZEIBEEQjJxIBIIgCEZOJAJBEAQjJxKBIAiCkROJQBAEwciJRCAIgmDkRCIQBEEwciIRCIIgGDmRCARBEIycSASCIAhGTiQCQRAEIycSgSAIgpETiUAQBMHIiUQgCIJg5EQiEARBMHIiEQiCIBg5kQgEQRCMnEgEgiAIRk4kAkEQBCMnEoEgCIKRE4lAEATByIlEIAiCYOREIhAEQTByIhEIgiAYOZEIBEEQjJxIBIIgCEZOJAJBEAQjJxKBIAiCkROJQBAEwciJRCAIgmDkRCIQBEEwciIRCIIgGDmRCARBEIycSASCIAhGTiQCQRAEIycSgSAIgpHTKxGk2LvyUfMG2BsqmrdBqjsjVu/kxP4dbPcP4MLJ35jlWbSgo8oRdXUPPm5UvaDD0J1sg2vzj3CzV+r1mQ6ztuK/359jZ4M4feQnRtubGC5GQ3sL9qeca1OauYqzTH7SORGk2PVg5Wo/vupSFwtDRvSGCxk/nAF17Em4tJa2fQ9yx7w87UZMKeiwckRdqgkDvlnNzpkfFXQo2ZNt6LJ8DT9M6U5tS93bN7d6+TC6aSrH5nlTZ/QB7lvVoL/fXDyRDBis4bwN+/OsWiemLd/Eqn6OBR2K0dCtxqS6M33J53gkH2PeVysJNnBQbzLlgxgeJsaDsmT6a7K5Cu83qCI+Z3liNv3WBVOm7ZeFvlLW+3IRY901HPtmNiuuJOv8ubEe1bAwd6Zph7ZYntjG1chUUt+tQZu6pgaM1nDehv15sn4Yow89ou7nS5j/hl5Nv2l0SgR15k+mc4VEzq1dwu4IjaFjeqM5bhyNl0cjWo1dQ/1RtXEggZDDO9mFXNCh5UiCrw/brplTb9BcJhXSLoa4D//H9PZOJJ7ezIJ9YXp99of9h/j75jWuhdwDIlFrAEwpYlM49zU7b8v+BI3/kaOPy+E1Zd4bdTXzpso2ESTbjmfsRw4obx1lwZbbGd5zHeXLruPnCQoKIigoiD+3fk2P6kUMFuybQtZ0Z/bqdfjUtUbx4BJ79p4u6JByTopk4ubjPDB3pu3U7q/+u1R3pmw9RVDQabaOKZV/8ck2zBzeHAfNHY4s+YUIPT9uvXM2/Tp3Z9iyk8Q1HEltewXJtwLYsTvRIOFmKdWdkSt3cjwwkMCTgQQFBfHXnh+Y0KqC3pvK0/2Rbfh8wymCgoI488uk/B0bVO7ii4PBpFp7Mm6qc/Z/X1Dl7y2RbSJoPqYZNZQQFrQnQ5eQVR9fFvSuSfQvI2jjPZkN1//hHScvJvotp38hbTnmF0m5GZ8BfenYdC6HlW6MXr2RyW9wq6bsjsMEx8iYu3i/cj9kjSuO9mZI6ihCr6eWNTgAABRdSURBVOXfKFJM65F4VVWgDDvL9itJOd5Oil0Lvp/YiJIRR1k+ZibH8vEKruWiGQx47ykHJ3bFzcON1ltuUsTGhZ4+X+f4Kixv9seGMpYqAEwtylEpn8tw/KYLXNZA+Sajsu1aLajy97Z4fSJI9aJdLWsgnIs/XXrxuuzCmE4NKBp2lPXLTnHv7gH+N24z5xNl5GL1GPi6lmMBuNN1IQfP/sacfJgt6zJhA8eP7OCr9u+AchcP42VkVWXqjS+Z/YcLK+Uujt74B5SVqTcp69aWVGQxn7rVpbZbeybq2T3zX2O3nOPkit46/W3H5rWxBsKubMv52FWqO9OXzOCjhL18PXwT6t5D6JSDk177Jfu5uG2WXp+RNR3xrm2NbO5Ml+HdALg3M4ibgGzujMfAHJSbPNofpLNMHT6EcT5T+Hz8xHxNjgBF7i3g6u1UUks507r9O6/927wsf8botWfGBLemVCotoYgOxT/8xdiAnOxFdXsFRRzbMPeHAQAUuedHUHgqAMUq1itU/XopJqaolKaoHAyfCNzqVsXCojSOTnVA400ZCymtlfLM4N9tSPMvhfIMqFBrgMG/y8wEUOowuCm70Mq5DBBL6OE7OfuyVHdG/PQlH6tPsH7jOZI/6ES3tg1xysGmTE1VyCqVXl0okuIO92K0ZSM+LgZ7IKWCiud7r0600i+IPNwfAJOIMxzes48TwboPwOelHaF3gVJUaeReIN9vLF573Rnp5YgDkBQbye2XWgOS8hI3H3TEqayCpPj49Nej4+IBK2TzYjgCxwB1tf4sX9APNysVKnOJx8e2sadMazo7mqEySeb80n58uvYW8Q1HsW16N6qVMMMs5Q67JnVn2rGnAHRbsJNh9Z9yfFJffAIK5oSaYteJBUvG0ti+KCpiOb90MJ+uvQXA+2NXs7SjA1dWdGDAV8twWtCPei3Gsb1FKexM7nDql8VM3P3vK7cd33AUq8Z2wNNehVoNKCHl9m6m9pijbYXJznSYPYMhno5YKgGVCsWDs2xdOof5aa2fkp1msXJ4M8qq7xNNOWwtksE8gT/btWV8eErGL5Rt+GjKN8xo44SpUoVZUgg//34fj3YNKGOqQnF/NxPaT8/QArQ5F000UMG6Ap2Q2Jb2XopdJxb4jqOxtRlmxBKwYjBD046LocnJXjjaKJASY4m8nflEpUvZ+6nGDAa8bw14MXS2FwCK2ADW58seANJZ5nb+gLkvvWTRU1vvJPUNLu7W/r661o8/Ouq3P68rN3+O+ZXJDe1RKUFx15823hPpsuEUnasW1b4WEcDWGEe8qhTHVKXCLCWKgBUjXv37y870XbqAT+taY6pSIcUE8PMxSz5p54SpiQpN0FK6DVqVYZzn97BYnuFAKdsGgH+mTZZpMYGFkzvgWDT/y9/b5LVN5Ak2pQFI+jc24yCcchdftKxHnTp1aDJ2i/Y12QanMpbajUaG4Y8MGm98F4/ANfJnBni4Me+vREp49qC3/V1+9o/gmbIYru37gezCvLFdcQ5bzye7biKrytO0Vw/tZlMG09zdDgsLC1RxqXl+AHTVY9pwmkonmLE4gDhlKW3cALILPT6qhYW5Csui1qiurmF0a08aNv+Ejs0b0aDJJwz7/sgrt5vQYCoH5vel8buP8Z/WjQb1N3HDRMU71ToybmYZ7fz4lX5Ma+NAxC/j6Ozhhkv7yexPeo8es3y10+s03kwb3JryUTsY3PITOrZ0Z+ifj1G94jvNx33DnHbFCJzdjXoddnLHwpmuvRpR5Pg2zsfLFCnfmD69M/azvvNnHElAailb6rx0tdd/5hiaph5n+o8B/KMqhcfz45IPwnvbYg2QGs/D/85m07HsHR3fkjp16mT4r1azYemJLr85tp2I78fVkdSxnFo9m1lXkvSqH3rtTzbl5rcxbSm5OIC4lz7yba8P0l9LtXenlWYvE7t5UHJFEE9V7/JBr3Gv7IZquXAxY2pEs+mzhpRcHMCzsu706VKe8K2HuJsiY+7SliH/OSWpHj3VljubCgz4z3aTbUfy/cyOFDv1P1ouyf/y9zZ5bSJQpd2gGR99KtsNPWg3Ac+KCiT1Hfav3UAEYDa5K03MzvPjVz9k6L99fHYdj6xLYwbE3LlOqXY98azwhFPf76ZH1UoARN48AUBs26rYmUsoYsM4rcf88LyUbDse73omXPptJbhWwhKIuXcZADnlA2zLKkATxbX9+vdNDv3sYxxVEo9PLWPivjAk5Rmuhv5D0pMQTgeac6uXD8PrW6G4G8C3y04SAZjcPcDgNaeJVr6L1/iZuGtqYldawrSMM3XS7qr97XwodxPjyXT9pPFmTqvqPDm0JENfqpQYwuGdltiW1nZlhZ3/zyeVoUTHy0ARTN8zST8uXrWecnmTH1It7XGJvX1c72OQU2qV9sQgPXmkbXi8RNeyV1juX5VT+vH11l+Z378Z1S2SiLx4hEN/XgXggYHqh6xDuVFmMVv8xWtRnFq4nMAIDZV9b3IXSC1VATeHzHd2J9uOp2fDdzi3bl6G+zwU0edY+qgEZVQSigf3CLbPeLJ3+Oke0QAKs0wNmzaTP6bmw+N8N3Unf1UsgyWAWl1oftM3yWu7hp638LOTYteDbWM8KauO5dTq6eknGKujq/niwr9cjkgB2YW6dpZAArcv3mb92ibpl6vq6qEs9FEQ9k9XplRWgOYGFzdrp6qWda+ENZAUHcbpAmqlSYpjrJlxgcS/q9O1pzUQS4j/HgBufFoVByUooiM5Hq7fPRZyymAaVy0KJBB5LVT7oiKAuZ0bp3cVfOFXDUsg4f71DCc0620PiZsJ1nY16FhpUVpXXT3G7zzLkMgwwq4dwa/buMz3fSius23hVBSh2hN2aDt7rAHp0R12/zWdb+pMzyZqC0q6FoUrSS+OywVPBo2yBqK4+Pufeh2DXHle+bOga9krLCSTtUzqvBaAYkNX4/9ZJ6atdqX2pO5MvLnNIPVDMjmre7nJ6vMJkVzVMfmkl5WL2nNDu/dsteU6/BL31qzCc83rPy+bl8TRQQkvdXOahpxi1d71HENmvpMNAJE39+k9hVjIJhHo5Pldx0XDOfg/Hyb+djn9rftnDrMv7d/P+3PRRBH2n4E9VfBJ9gWDyYyR1FCCMuQia9N+8KFOtgBE3diZ7Q/8tNZU9vh6Y/ffN5QqVMCHm/8k8D9vSYmXWdt8EMtfU4lMIs5wOAJu9fTl69ISitgQ/vhN2+c/qE6l9AKt96yK1FJYmmtbQM+SHmb5J9knYwtKNAuky5z1/DS5G+42ZhSzqUANm/7UrP8+ZXoMYU3ES2MEUggn94Sk/++EmhUxA2LDz+k96+b5cQkZuJrvzSUUUdf59ZjuYzh9fA8wrFbxzG+oFKgcBhF4clCmt6L/GEXbGdnfl6Fr2cuJijO2stkri3anSkUqjdh68r+lDBIvraPpkOU6bT9+qT/nu9fmA4vytBsxjpWdZudJ/chEcZDP51TTrdzk0vOy8twnFbW1NPLmiRyfuHct+Ur7j1QvqtsWBWIJO3M9V3Eaq9cmgjh1Nic22YYuP8yli9UtNs6cxvx9YYQM/Ibg+v+w/LO5HHjpxHhjoB3WgCIqjO1phdi5UUvKxhxKn5EwpGpF4EVWlzXdqWarQNdZIUX/nkMnjzmZXr/V05e74ytwpnsWA6d6GOCSdtIPPadtfck2eJQvAyQRGXxC/w0qYolLlMHcFMsSWf8UD+OeAeav2YiahNuNmdjChJNDPuQz6tKsWTs+7/8xjhb16DOmCWvGZh5kA0C2SW8pR/19DtAuLNiiqoIQ/9OvqKBqkp9kbC0u/uh9zICooA1cd21CM27wx5nsq/f6YS2ybJlP+fUcrWN/wGPQqtdvIF6d7XeAbmVPH6EzO+M2M/PrXfyOMNXmDJ29J+p8cotr6MPB/3XASRmeYQD4udSyFWiOxGrkXNePTDTeOSs3uSRrumNbTgKiCEsbDFdX9+CT0o/Ze/wVzRFNAv+8YnvJdq7YlZaQEmMJPfdmz84rKK8dI9DOAgJV0UxtbJBt6LpwNeOcb7Fm4tT02Ss+rq5UfLc4wch0XXKAoKAgDi9q/6LlnNbFIaf0Y9K8LxnS5MXdk5YqCUjg3o2bAPzrXgs7CwkpIYwLWcwKyW9lzbW9lPHRp9IqojeOZSUglrCD+o8PSMpdBIU/A0yxqfLxizdkG0asPcrOmQ3YeFE7bbNYuSq8vA7o7f5pJ7fYEE7frEHT1r3o2scJk4gzHF3jQ7tuuwgHTC0cMnxnQoOpbAs8T9DZLUzSdKKSjQJ4RGja+Mb7Q334bky3zDcPyZaYKQGSSHhp/CDZdjwNKitBc4eTG5UMnTafcV2q6H0sckL5IE47kGlqmilefcteQbnvWQtHcwlZVZ6qbmlXGenHGpIjb6SPf+R1/ZA1NXUuN7l1q+dCDpwN4u8/fPnYuz5OFlKGrqWB475h5kCvTP37/35oiSkgPY3j3iu6XkPbOWKHtntzVx5exRiT1yaC7dHa+QJZFYp6Xy5idOOyqIrWoPvCLQSe1N4eP7aeFQn3rxOh8catqra1HB/vRJd61gAkxYdrk8iqvrg8Pc/enS+WrYh4/AwoRhnbcpDqztwvGuGAdhbSH4XgB74cqz0eFqVc0vahG3VzM5AtRTLXdy+31DLmDT5j42e1ALDq60OnGincu/KQxAXL2BX2lFQ7d6amvZ9i14KNnWpjSQJnt/ixMUx7onBoOSH9ru5HLpaYoSbyesYrlcimtXFUSUjxcajnfUQNJUhqNQnhGuIa+vBV07KEHFufuZsrrRtLin/EzZfeivywonaMJCqE3S79aFLqJkfWHtP/WOSAw5GHPIH06crpclD2CkrFNSe4opZJjjjKjl3acSKXWc2obi4hqe9wZO2LZTMMVT90KTe5NcytKtZKUCfEU7md9iZAKTGBW2hXKRhY6ylnd2fu3npQ2RIrtBMCAl/R9Zqb7k1B67VdQ1dv3CMOB6zKVcEe0n8kOWkKk9s7YQbIKlWm0fwH0adAeZUNf/ahXquylPDoSKkIf3bTgOaNpuN/IJWiTy+z4dv5bHxpUGrFyp9wn94X904/E+itRmWi3XJhGQAKnvQjWyuPo3ODsQSeHg5p8aV3FeWA5YnZtJgQz0+TO+A+dC0XBqhRJ8Vy6edFzN1yGxS3mdtuHJHfjaP/AO37z4DkJ2Ec/GYOkzZfAloDamLiytN/4368Y1MpbW3G471LmLEgJMP3VfppBwGeI6hn7kwHz3hO7jlB+UYf8on/QT5WSdw/tIQvvw7KFOfzKxDpn0iOv3TSKb95Awc61aGzU3PWDI7k1Lov+CafZneZRFzjbrw3DhY2VH95IFG5S++yV1CK3FtMuwkSq8Z2YOT6vxiZAiqTBB4FH8Rv4TLWnglP/1vD1I9Xl5txG07R2akoKiDVrjlbT/5CRKg99lW1r8nF6jEycA91Ap/g6lYt7TzwLs22/Mm+00tpNWpD+rds3fIng2q1wbq4Oz2LR7FvdyQezT2Z7X8Q2SSByz8vYt6WzIlZ46SdEJAQE0p8pncB2QX38hm7NwX9Sc7Ozq88g8nJI9nwd39qqq/g59H7tQOquZVi74rX+8VJvHiEwAgNcko/Vp8eSV3z+xwf3ZFR/+k71Uf6GEFWN1fpSnbGo40jitA/tP3Ksgszd/nR1j6F4B970XPZjRzH9yZQzvqds20ceHzqfzQd/otBv0s7RuCb/RgB8Pnms3xaVUPw8hb0XPnEoHFl5/kYQRs9xgh0Zcj6UZh18TvCF/WtuPlzVzp/HZLp/efnqBrc4NcOPZiVizFAY/baKwKpyGJO3+hDjarlce1SjOVbsszJuSe7MGfZCtraK0g8uxSPQauoMas1dc0lUq4exS+Xhbz441hiHlhwNxd5rPfqNYyta47yzge8334at3oNoLG9AkXUKTYXgi4GQ9POTnkxbdaQ7j6MIeZxXPZ/CIw8c41Pq75HhbrewE+GDSwbMdExxJjey/sNG7h+FFqpXrhXKp5huixo74b+rqsTj/f40LpobZyUoLj7YiKAoL9sp4+OPHSRnlXrUKVpe9himIomp5antIUEmliunTxKmRazmNnKEenJOVbN+T7X/X6l906j497cbcPewgxIIuzvo6ir9Wf/QDeKq+9wYMmit/4ZDc8HhBVRl9j826uXysgr6wdnPZsoK5W/+YPzHatTr4onPdnAxgJ87sPhaZ05bIDtGrp+FFYP2reiemmJlEun0qfLkurFtMGtqVVa4nGDbvhXrY0ZCZzd7vfWHof8kO0qbM4/+LIrNJV3arYx2INJJOV21uwNJo5S1BuykV0zPTG/uJ1Zw4fq9bQpQ/LdfYKIxCI4tJhD0JrB1IrxZ+GIkUax0mH9kQ2poUzg7Jal+b4CZXYkk7V8d/AWslVN2o+pXNDhGMSbUD/ynGyDT4f6WGuiOLrK70VXm3SZgBsPUWvAvI4376uvsGvm0PR1v4Scee0YwXNxDX04OL8DJc99bfD+YaFwSbYdyS/b+1Hx6g8M6r+8cLa6Ut2Z8vu3dLW4wKxmwwtsnSAh7zxo+z0XZjZG3vslg6b+Xigmi7zNdFqX2fLEbObtu0XRDz4v9M+uFfJQqjszlnajZvx5flrwY+FMAgCKACZ/t5cbxdwY88MAsdbMG+75kjUlbh5k6YrdIgnkA50X6D83szMjN12mZKM+b+SD2AX9hXzanpqJgSwfXfi7ILTTcDdz0cqTz9q8/iEmQuHWuHdDbG9s56uxU9768bfCQqeuIUEQBOHtZfhHdgmCIAiFmkgEgiAIRk4kAkEQBCMnEoEgCIKRE4lAEATByIlEIAiCYOREIhAEQTByIhEIgiAYOZNnz8QzPgVBEN5kSUnVMTXN+SIw4opAEAThDfbsmRv37+8jLm5YjrchEoEgCMIbzNQ0mOLFF1K06IEcb0NycHAQaw0JgiAYMXFFIAiCYOREIhAEQTBy/wcLPgcchH1/DwAAAABJRU5ErkJggg==)"
      ]
    },
    {
      "cell_type": "markdown",
      "id": "9a87d5a3",
      "metadata": {
        "id": "9a87d5a3"
      },
      "source": [
        "### Question 5: Use JAX to confirm the gradient evaluated by your method matches the analytical solution corresponding to a few random values of x and y"
      ]
    },
    {
      "cell_type": "code",
      "execution_count": 87,
      "id": "7f9dde77",
      "metadata": {
        "id": "7f9dde77"
      },
      "outputs": [],
      "source": [
        "import jax"
      ]
    },
    {
      "cell_type": "code",
      "source": [
        "def eqn(x,y):\n",
        "  return ((x**2)*y +(y**3)*jax.numpy.sin(x))\n",
        "def eqn_grad(x,y):\n",
        "  soln=[2*x*y + (y**3)*jax.numpy.cos(x) , x**2 + 3*(y**2)*jax.numpy.sin(x)]\n",
        "  return jax.numpy.array(soln)\n",
        "\n",
        "jax_grad=jax.grad(eqn,(0,1))\n",
        "\n"
      ],
      "metadata": {
        "id": "hgCYg7JTjswd"
      },
      "id": "hgCYg7JTjswd",
      "execution_count": 88,
      "outputs": []
    },
    {
      "cell_type": "code",
      "source": [
        "print(\"eqn(pi,10.0):{0}\" , format(eqn(jax.numpy.pi,10.0)))\n",
        "print(\"Gradient using explicit gradient function :{0}\" , format(eqn_grad(jax.numpy.pi,10.0)))\n",
        "print(\"Gradient using jax:{0}\" , format(jax_grad(jax.numpy.pi,10.0)))"
      ],
      "metadata": {
        "colab": {
          "base_uri": "https://localhost:8080/"
        },
        "id": "BJKAES-klb2U",
        "outputId": "00949cdd-45e9-4f29-865f-0c8c58dabc51"
      },
      "id": "BJKAES-klb2U",
      "execution_count": 89,
      "outputs": [
        {
          "output_type": "stream",
          "name": "stdout",
          "text": [
            "eqn(pi,10.0):{0} 98.69596099853516\n",
            "Gradient using explicit gradient function :{0} [-937.16815     9.869577]\n",
            "Gradient using jax:{0} (DeviceArray(-937.16815, dtype=float32, weak_type=True), DeviceArray(9.869578, dtype=float32, weak_type=True))\n"
          ]
        }
      ]
    },
    {
      "cell_type": "code",
      "source": [
        "print(\"eqn(pi,4.5):{0}\" , format(eqn(jax.numpy.pi,4.5)))\n",
        "print(\"Gradient using explicit gradient function :{0}\" , format(eqn_grad(jax.numpy.pi,4.5)))\n",
        "print(\"Gradient using jax:{0}\" , format(jax_grad(jax.numpy.pi,4.5)))"
      ],
      "metadata": {
        "colab": {
          "base_uri": "https://localhost:8080/"
        },
        "id": "JyIjbOR1mwa0",
        "outputId": "d64b4429-f02a-4ba2-f95a-f21fa7189165"
      },
      "id": "JyIjbOR1mwa0",
      "execution_count": 90,
      "outputs": [
        {
          "output_type": "stream",
          "name": "stdout",
          "text": [
            "eqn(pi,4.5):{0} 44.413211822509766\n",
            "Gradient using explicit gradient function :{0} [-62.850666   9.869598]\n",
            "Gradient using jax:{0} (DeviceArray(-62.850666, dtype=float32, weak_type=True), DeviceArray(9.869599, dtype=float32, weak_type=True))\n"
          ]
        }
      ]
    },
    {
      "cell_type": "markdown",
      "id": "00d3f061",
      "metadata": {
        "id": "00d3f061"
      },
      "source": [
        "### Question 6: Use sympy to confirm that you obtain the same gradient analytically."
      ]
    },
    {
      "cell_type": "code",
      "execution_count": 91,
      "id": "cc3f27d9",
      "metadata": {
        "id": "cc3f27d9"
      },
      "outputs": [],
      "source": [
        "from sympy import *\n",
        "x, y = symbols('x y')\n",
        "init_printing(use_unicode=True)"
      ]
    },
    {
      "cell_type": "code",
      "execution_count": 92,
      "id": "9a575806",
      "metadata": {
        "colab": {
          "base_uri": "https://localhost:8080/",
          "height": 39
        },
        "id": "9a575806",
        "outputId": "3bbd8c1e-734c-4267-8f5e-f543568be036"
      },
      "outputs": [
        {
          "output_type": "execute_result",
          "data": {
            "text/plain": [
              "         3       \n",
              "2⋅x⋅y + y ⋅cos(x)"
            ],
            "image/png": "[encoded data removed]",
            "text/latex": "$\\displaystyle 2 x y + y^{3} \\cos{\\left(x \\right)}$"
          },
          "metadata": {},
          "execution_count": 92
        }
      ],
      "source": [
        "diff( ((x**2)*y) + ((y**3)*sin(x)), x)"
      ]
    },
    {
      "cell_type": "code",
      "execution_count": 93,
      "id": "a73c78c4",
      "metadata": {
        "colab": {
          "base_uri": "https://localhost:8080/",
          "height": 39
        },
        "id": "a73c78c4",
        "outputId": "9352e0ce-6b20-41a7-f1dc-137487e3dfec"
      },
      "outputs": [
        {
          "output_type": "execute_result",
          "data": {
            "text/plain": [
              " 2      2       \n",
              "x  + 3⋅y ⋅sin(x)"
            ],
            "image/png": "[encoded data removed]",
            "text/latex": "$\\displaystyle x^{2} + 3 y^{2} \\sin{\\left(x \\right)}$"
          },
          "metadata": {},
          "execution_count": 93
        }
      ],
      "source": [
        "diff( ((x**2)*y) + ((y**3)*sin(x)), y)"
      ]
    },
    {
      "cell_type": "markdown",
      "id": "845d728e",
      "metadata": {
        "id": "845d728e"
      },
      "source": [
        "With output of question 6 and question 4 it's confirmed that my output for gradient is same"
      ]
    },
    {
      "cell_type": "markdown",
      "id": "f178b7dd",
      "metadata": {
        "id": "f178b7dd"
      },
      "source": [
        "### Question 7: Create a Python nested dictionary to represent hierarchical information. We want to store record of students and their marks."
      ]
    },
    {
      "cell_type": "code",
      "execution_count": 94,
      "id": "20726436",
      "metadata": {
        "colab": {
          "base_uri": "https://localhost:8080/"
        },
        "id": "20726436",
        "outputId": "7646ff0a-7af8-44ff-c6f2-44edb5ecdb8e"
      },
      "outputs": [
        {
          "output_type": "stream",
          "name": "stdout",
          "text": [
            "Year 2022\n",
            "\n",
            "\tBranch 1:\t\n",
            "\t\t\n",
            "\t\tRoll number 1:{'Name': 'Ankit', 'Marks': {'Maths': '95', 'Science': '92', 'English': '85'}}\n",
            "\t\tRoll number 2:{'Name': 'Jatin', 'Marks': {'Maths': '86', 'Science': '91', 'English': '75'}}\n",
            "\tBranch 2:\t\n",
            "\t\t\n",
            "\t\tRoll number 1:{'Name': 'Ronak', 'Marks': {'Maths': '23', 'Science': '82', 'English': '89'}}\n",
            "\t\tRoll number 2:{'Name': 'Masum', 'Marks': {'Maths': '65', 'Science': '32', 'English': '95'}}\n",
            "Year 2023\n",
            "\n",
            "\tBranch 1:\t\n",
            "\t\t\n",
            "\t\tRoll number 1:{'Name': 'Ramesh', 'Marks': {'Maths': '95', 'Science': '92', 'English': '85'}}\n",
            "\t\tRoll number 2:{'Name': 'Suresh', 'Marks': {'Maths': '86', 'Science': '91', 'English': '75'}}\n",
            "\tBranch 2:\t\n",
            "\t\t\n",
            "\t\tRoll number 1:{'Name': 'Dinesh', 'Marks': {'Maths': '23', 'Science': '82', 'English': '89'}}\n",
            "\t\tRoll number 2:{'Name': 'Sachin', 'Marks': {'Maths': '65', 'Science': '32', 'English': '95'}}\n"
          ]
        }
      ],
      "source": [
        "Student_record = {\"Year 2022\":\n",
        "    {\"Branch 1\":\n",
        "        {\"Roll number 1\":\n",
        "            {\"Name\":\"Ankit\",\"Marks\":\n",
        "                {\"Maths\":\"95\",\"Science\":\"92\",\"English\":\"85\"}},\n",
        "        \"Roll number 2\":\n",
        "            {\"Name\":\"Jatin\",\"Marks\":\n",
        "                {\"Maths\":\"86\",\"Science\":\"91\",\"English\":\"75\"}}},\n",
        "    \"Branch 2\":\n",
        "        {\"Roll number 1\":\n",
        "            {\"Name\":\"Ronak\",\"Marks\":\n",
        "                {\"Maths\":\"23\",\"Science\":\"82\",\"English\":\"89\"}},\n",
        "        \"Roll number 2\":\n",
        "            {\"Name\":\"Masum\",\"Marks\":\n",
        "                {\"Maths\":\"65\",\"Science\":\"32\",\"English\":\"95\"}}}},\n",
        "                \n",
        "    \"Year 2023\":\n",
        "    {\"Branch 1\":\n",
        "        {\"Roll number 1\":\n",
        "            {\"Name\":\"Ramesh\",\"Marks\":\n",
        "                {\"Maths\":\"95\",\"Science\":\"92\",\"English\":\"85\"}},\n",
        "        \"Roll number 2\":\n",
        "            {\"Name\":\"Suresh\",\"Marks\":\n",
        "                {\"Maths\":\"86\",\"Science\":\"91\",\"English\":\"75\"}}},\n",
        "    \"Branch 2\":\n",
        "        {\"Roll number 1\":\n",
        "            {\"Name\":\"Dinesh\",\"Marks\":\n",
        "                {\"Maths\":\"23\",\"Science\":\"82\",\"English\":\"89\"}},\n",
        "        \"Roll number 2\":\n",
        "            {\"Name\":\"Sachin\",\"Marks\":\n",
        "                {\"Maths\":\"65\",\"Science\":\"32\",\"English\":\"95\"}}}}}\n",
        "\n",
        "for x,y in Student_record.items():\n",
        "    print(x+\"\\n\")\n",
        "    \n",
        "    for z,a in y.items():\n",
        "        print(\"\\t\"+z+\":\"+\"\\t\\n\"+ \"\\t\\t\")\n",
        "        \n",
        "        for b in a:\n",
        "            print(\"\\t\\t\"+b+\":\"+str(a[b]))"
      ]
    },
    {
      "cell_type": "markdown",
      "id": "02b26117",
      "metadata": {
        "id": "02b26117"
      },
      "source": [
        "### Question 8: Store the same information using Python classes. We have an overall database which is a list of year objects. Each year contains a list of branches. Each branch contains a list of students. Each student has some properties like name, roll number and has marks in some subjects."
      ]
    },
    {
      "cell_type": "code",
      "source": [
        "import random\n",
        "class Student_details:\n",
        "  def __init__(self,rollno,name):\n",
        "    self.rollno=rollno\n",
        "    self.name=name\n",
        "    self.marks={\"Physics\":random.randint(0,100),\"Chemistry\":random.randint(0,100),\"Maths\":random.randint(0,100) }\n",
        "\n",
        "class Student_branch:\n",
        "  def __init__(self,branch_name):\n",
        "    self.branch_name=branch_name\n",
        "    self.students_in_branch=[]\n",
        "\n",
        "  def students_joining(self,student):\n",
        "      self.students_in_branch.append(student)\n",
        "  \n",
        "class joining_year:\n",
        "  def __init__(self,year):\n",
        "    self.year=year\n",
        "    self.branches=[]\n",
        "\n",
        "  def add_branch(self,branch):\n",
        "    self.branches.append(branch)\n",
        "\n",
        "\n",
        "list_of_years=[]\n",
        "for x in range(2020,2025):\n",
        "  yr=joining_year(x)\n",
        "  for y in range(1,5):\n",
        "    br=Student_branch(\"Branch number: \"+str(y))\n",
        "    for roll in range(101,110):\n",
        "      student=Student_details(roll,\"ABC\"+str(roll))\n",
        "      br.students_joining(student)\n",
        "    yr.add_branch(br)\n",
        "  list_of_years.append(yr)\n",
        "\n",
        "print(list_of_years[1].branches[1].students_in_branch[2].name)\n",
        "print(list_of_years,\"\\n\")\n"
      ],
      "metadata": {
        "colab": {
          "base_uri": "https://localhost:8080/"
        },
        "id": "ySybLwsijxMG",
        "outputId": "9a657623-97d1-4d0f-e3b3-b430b2b711c0"
      },
      "id": "ySybLwsijxMG",
      "execution_count": 95,
      "outputs": [
        {
          "output_type": "stream",
          "name": "stdout",
          "text": [
            "ABC103\n",
            "[<__main__.joining_year object at 0x7ff62a50b550>, <__main__.joining_year object at 0x7ff62a539280>, <__main__.joining_year object at 0x7ff62a4dba00>, <__main__.joining_year object at 0x7ff62a4dd9a0>, <__main__.joining_year object at 0x7ff62a4d38e0>] \n",
            "\n"
          ]
        }
      ]
    },
    {
      "cell_type": "markdown",
      "id": "61af3e35",
      "metadata": {
        "id": "61af3e35"
      },
      "source": [
        "### Question 9: Using matplotlib plot the following functions on the domain: x = 0.5 to 100.0 in steps of 0.5.\n",
        "  ![image.png](data:image/png;base64,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)   "
      ]
    },
    {
      "cell_type": "code",
      "execution_count": 96,
      "id": "a880e0b7",
      "metadata": {
        "id": "a880e0b7"
      },
      "outputs": [],
      "source": [
        "import matplotlib.pyplot as plt\n",
        "import numpy as np\n",
        "from matplotlib import style\n",
        "plt.style.use('Solarize_Light2')"
      ]
    },
    {
      "cell_type": "code",
      "execution_count": 97,
      "id": "a8db0eec",
      "metadata": {
        "colab": {
          "base_uri": "https://localhost:8080/",
          "height": 265
        },
        "id": "a8db0eec",
        "outputId": "7e305f98-8ea1-4229-c43c-4a07694aed8a"
      },
      "outputs": [
        {
          "output_type": "display_data",
          "data": {
            "text/plain": [
              "<Figure size 432x288 with 1 Axes>"
            ],
            "image/png": "[encoded data removed]"
          },
          "metadata": {}
        }
      ],
      "source": [
        "x = np.linspace(0.5,100.0,199)\n",
        "y=x\n",
        "plt.plot(x,y)\n",
        "plt.show()"
      ]
    },
    {
      "cell_type": "code",
      "execution_count": 98,
      "id": "7c6c2873",
      "metadata": {
        "colab": {
          "base_uri": "https://localhost:8080/",
          "height": 265
        },
        "id": "7c6c2873",
        "outputId": "75bdec0f-712b-4915-e2a1-5cf484a0946a"
      },
      "outputs": [
        {
          "output_type": "display_data",
          "data": {
            "text/plain": [
              "<Figure size 432x288 with 1 Axes>"
            ],
            "image/png": "[encoded data removed]"
          },
          "metadata": {}
        }
      ],
      "source": [
        "x = np.linspace(0.5,100.0,200)\n",
        "y=x**2\n",
        "plt.plot(x,y)\n",
        "plt.show()"
      ]
    },
    {
      "cell_type": "code",
      "execution_count": 99,
      "id": "62d712c2",
      "metadata": {
        "colab": {
          "base_uri": "https://localhost:8080/",
          "height": 265
        },
        "id": "62d712c2",
        "outputId": "1f9bbedd-e911-445d-d43d-1cb9f3935d2d"
      },
      "outputs": [
        {
          "output_type": "display_data",
          "data": {
            "text/plain": [
              "<Figure size 432x288 with 1 Axes>"
            ],
            "image/png": "[encoded data removed]"
          },
          "metadata": {}
        }
      ],
      "source": [
        "x = np.linspace(0.5,100.0,200)\n",
        "y=(x**3)/100\n",
        "plt.plot(x,y)\n",
        "plt.show()"
      ]
    },
    {
      "cell_type": "code",
      "execution_count": 100,
      "id": "761d09da",
      "metadata": {
        "colab": {
          "base_uri": "https://localhost:8080/",
          "height": 282
        },
        "id": "761d09da",
        "outputId": "09438339-7925-4ebb-e858-156fc8867fb3"
      },
      "outputs": [
        {
          "output_type": "execute_result",
          "data": {
            "text/plain": [
              "[<matplotlib.lines.Line2D at 0x7ff62a34fe50>]"
            ]
          },
          "metadata": {},
          "execution_count": 100
        },
        {
          "output_type": "display_data",
          "data": {
            "text/plain": [
              "<Figure size 432x288 with 1 Axes>"
            ],
            "image/png": "[encoded data removed]"
          },
          "metadata": {}
        }
      ],
      "source": [
        "import math\n",
        "x = np.linspace(0.5,100.0,200)\n",
        "y=np.sin(x)\n",
        "plt.plot(x,y)"
      ]
    },
    {
      "cell_type": "code",
      "source": [
        "x = np.linspace(0.5,100.0,200)\n",
        "y=(np.sin(x))/x\n",
        "plt.plot(x,y)"
      ],
      "metadata": {
        "colab": {
          "base_uri": "https://localhost:8080/",
          "height": 283
        },
        "id": "nK4nLCSliYpL",
        "outputId": "d6e0361e-c010-4f2b-9a8f-095538fd9afd"
      },
      "id": "nK4nLCSliYpL",
      "execution_count": 101,
      "outputs": [
        {
          "output_type": "execute_result",
          "data": {
            "text/plain": [
              "[<matplotlib.lines.Line2D at 0x7ff62a332850>]"
            ]
          },
          "metadata": {},
          "execution_count": 101
        },
        {
          "output_type": "display_data",
          "data": {
            "text/plain": [
              "<Figure size 432x288 with 1 Axes>"
            ],
            "image/png": "[encoded data removed]"
          },
          "metadata": {}
        }
      ]
    },
    {
      "cell_type": "code",
      "execution_count": 102,
      "id": "855e7b39",
      "metadata": {
        "colab": {
          "base_uri": "https://localhost:8080/"
        },
        "id": "855e7b39",
        "outputId": "951ce7cf-6d8f-422a-df45-88429e063b36"
      },
      "outputs": [
        {
          "output_type": "stream",
          "name": "stdout",
          "text": [
            "Log value:  4.605170185988092\n"
          ]
        }
      ],
      "source": [
        "print(\"Log value: \", math.log(100))"
      ]
    },
    {
      "cell_type": "code",
      "execution_count": 103,
      "id": "56698265",
      "metadata": {
        "colab": {
          "base_uri": "https://localhost:8080/",
          "height": 265
        },
        "id": "56698265",
        "outputId": "af5262f2-ca8d-4966-aebc-16f405cdc2c7"
      },
      "outputs": [
        {
          "output_type": "display_data",
          "data": {
            "text/plain": [
              "<Figure size 432x288 with 1 Axes>"
            ],
            "image/png": "[encoded data removed]"
          },
          "metadata": {}
        }
      ],
      "source": [
        "x = np.linspace(0.5,100.0,200)\n",
        "y=np.log(x)\n",
        "plt.plot(x,y)\n",
        "plt.show()"
      ]
    },
    {
      "cell_type": "code",
      "execution_count": 104,
      "id": "bb0cdfcf",
      "metadata": {
        "colab": {
          "base_uri": "https://localhost:8080/",
          "height": 265
        },
        "id": "bb0cdfcf",
        "outputId": "547cff14-e3ac-4756-c310-92b2f576df89"
      },
      "outputs": [
        {
          "output_type": "display_data",
          "data": {
            "text/plain": [
              "<Figure size 432x288 with 1 Axes>"
            ],
            "image/png": "[encoded data removed]"
          },
          "metadata": {}
        }
      ],
      "source": [
        "x = np.linspace(0.5,5.0,200)\n",
        "y=np.exp(x)\n",
        "plt.plot(x,y)\n",
        "plt.show()"
      ]
    },
    {
      "cell_type": "code",
      "execution_count": 105,
      "id": "99975b30",
      "metadata": {
        "colab": {
          "base_uri": "https://localhost:8080/",
          "height": 276
        },
        "id": "99975b30",
        "outputId": "d39db9c3-8bee-4ade-8efb-a492d8f635c9"
      },
      "outputs": [
        {
          "output_type": "display_data",
          "data": {
            "text/plain": [
              "<Figure size 432x288 with 1 Axes>"
            ],
            "image/png": "[encoded data removed]"
          },
          "metadata": {}
        }
      ],
      "source": [
        "x = np.linspace(0.5,100.0,200)\n",
        "y=np.exp(x)\n",
        "plt.plot(x,y)\n",
        "plt.show()"
      ]
    },
    {
      "cell_type": "markdown",
      "id": "f05a0710",
      "metadata": {
        "id": "f05a0710"
      },
      "source": [
        "### Question 10: Using numpy generate a matrix of size 20X5 containing random numbers drawn uniformly from the range of 1 to 2. Using Pandas create a dataframe out of this matrix. Name the columns of the dataframe as “a”, “b”, “c”, “d”, “e”. Find the column with the highest standard deviation. Find the row with the lowest mean."
      ]
    },
    {
      "cell_type": "code",
      "execution_count": 106,
      "id": "e7f232c0",
      "metadata": {
        "id": "e7f232c0"
      },
      "outputs": [],
      "source": [
        "import pandas as pd"
      ]
    },
    {
      "cell_type": "code",
      "execution_count": 107,
      "id": "ec6fad57",
      "metadata": {
        "id": "ec6fad57"
      },
      "outputs": [],
      "source": [
        "A = np.random.uniform(1,2, size=(20,5))\n",
        "names = [_ for _ in 'abcde']\n",
        "df = pd.DataFrame(A, columns=names)"
      ]
    },
    {
      "cell_type": "code",
      "execution_count": 108,
      "id": "849f51e9",
      "metadata": {
        "colab": {
          "base_uri": "https://localhost:8080/",
          "height": 676
        },
        "id": "849f51e9",
        "outputId": "3dc55d18-9186-40a4-d5be-a22b5c71dab5"
      },
      "outputs": [
        {
          "output_type": "execute_result",
          "data": {
            "text/plain": [
              "           a         b         c         d         e\n",
              "0   1.789950  1.826090  1.969889  1.199627  1.624131\n",
              "1   1.514941  1.872312  1.519106  1.980513  1.733165\n",
              "2   1.708581  1.244272  1.779260  1.233665  1.834371\n",
              "3   1.169404  1.005703  1.746666  1.752409  1.500594\n",
              "4   1.777313  1.515329  1.990933  1.800750  1.170945\n",
              "5   1.031631  1.346842  1.246589  1.232206  1.307395\n",
              "6   1.829163  1.048240  1.992028  1.867181  1.573374\n",
              "7   1.464533  1.618424  1.090626  1.535461  1.756922\n",
              "8   1.489929  1.526166  1.780864  1.233973  1.051822\n",
              "9   1.701475  1.930785  1.659853  1.144693  1.517330\n",
              "10  1.360845  1.681011  1.518887  1.947147  1.951630\n",
              "11  1.007067  1.621180  1.976714  1.696425  1.875968\n",
              "12  1.500027  1.757678  1.515013  1.153723  1.702537\n",
              "13  1.780197  1.749805  1.051938  1.340968  1.556176\n",
              "14  1.491221  1.444640  1.513337  1.263043  1.597211\n",
              "15  1.053867  1.204110  1.532755  1.361657  1.179896\n",
              "16  1.672572  1.793971  1.311176  1.225710  1.851356\n",
              "17  1.336856  1.122757  1.401936  1.729094  1.422374\n",
              "18  1.975795  1.932697  1.897102  1.856370  1.096505\n",
              "19  1.983705  1.165348  1.490595  1.750341  1.115317"
            ],
            "text/html": [
              "\n",
              "  <div id=\"df-19436b12-b40d-46c7-bd67-c5b194b91d4f\">\n",
              "    <div class=\"colab-df-container\">\n",
              "      <div>\n",
              "<style scoped>\n",
              "    .dataframe tbody tr th:only-of-type {\n",
              "        vertical-align: middle;\n",
              "    }\n",
              "\n",
              "    .dataframe tbody tr th {\n",
              "        vertical-align: top;\n",
              "    }\n",
              "\n",
              "    .dataframe thead th {\n",
              "        text-align: right;\n",
              "    }\n",
              "</style>\n",
              "<table border=\"1\" class=\"dataframe\">\n",
              "  <thead>\n",
              "    <tr style=\"text-align: right;\">\n",
              "      <th></th>\n",
              "      <th>a</th>\n",
              "      <th>b</th>\n",
              "      <th>c</th>\n",
              "      <th>d</th>\n",
              "      <th>e</th>\n",
              "    </tr>\n",
              "  </thead>\n",
              "  <tbody>\n",
              "    <tr>\n",
              "      <th>0</th>\n",
              "      <td>1.789950</td>\n",
              "      <td>1.826090</td>\n",
              "      <td>1.969889</td>\n",
              "      <td>1.199627</td>\n",
              "      <td>1.624131</td>\n",
              "    </tr>\n",
              "    <tr>\n",
              "      <th>1</th>\n",
              "      <td>1.514941</td>\n",
              "      <td>1.872312</td>\n",
              "      <td>1.519106</td>\n",
              "      <td>1.980513</td>\n",
              "      <td>1.733165</td>\n",
              "    </tr>\n",
              "    <tr>\n",
              "      <th>2</th>\n",
              "      <td>1.708581</td>\n",
              "      <td>1.244272</td>\n",
              "      <td>1.779260</td>\n",
              "      <td>1.233665</td>\n",
              "      <td>1.834371</td>\n",
              "    </tr>\n",
              "    <tr>\n",
              "      <th>3</th>\n",
              "      <td>1.169404</td>\n",
              "      <td>1.005703</td>\n",
              "      <td>1.746666</td>\n",
              "      <td>1.752409</td>\n",
              "      <td>1.500594</td>\n",
              "    </tr>\n",
              "    <tr>\n",
              "      <th>4</th>\n",
              "      <td>1.777313</td>\n",
              "      <td>1.515329</td>\n",
              "      <td>1.990933</td>\n",
              "      <td>1.800750</td>\n",
              "      <td>1.170945</td>\n",
              "    </tr>\n",
              "    <tr>\n",
              "      <th>5</th>\n",
              "      <td>1.031631</td>\n",
              "      <td>1.346842</td>\n",
              "      <td>1.246589</td>\n",
              "      <td>1.232206</td>\n",
              "      <td>1.307395</td>\n",
              "    </tr>\n",
              "    <tr>\n",
              "      <th>6</th>\n",
              "      <td>1.829163</td>\n",
              "      <td>1.048240</td>\n",
              "      <td>1.992028</td>\n",
              "      <td>1.867181</td>\n",
              "      <td>1.573374</td>\n",
              "    </tr>\n",
              "    <tr>\n",
              "      <th>7</th>\n",
              "      <td>1.464533</td>\n",
              "      <td>1.618424</td>\n",
              "      <td>1.090626</td>\n",
              "      <td>1.535461</td>\n",
              "      <td>1.756922</td>\n",
              "    </tr>\n",
              "    <tr>\n",
              "      <th>8</th>\n",
              "      <td>1.489929</td>\n",
              "      <td>1.526166</td>\n",
              "      <td>1.780864</td>\n",
              "      <td>1.233973</td>\n",
              "      <td>1.051822</td>\n",
              "    </tr>\n",
              "    <tr>\n",
              "      <th>9</th>\n",
              "      <td>1.701475</td>\n",
              "      <td>1.930785</td>\n",
              "      <td>1.659853</td>\n",
              "      <td>1.144693</td>\n",
              "      <td>1.517330</td>\n",
              "    </tr>\n",
              "    <tr>\n",
              "      <th>10</th>\n",
              "      <td>1.360845</td>\n",
              "      <td>1.681011</td>\n",
              "      <td>1.518887</td>\n",
              "      <td>1.947147</td>\n",
              "      <td>1.951630</td>\n",
              "    </tr>\n",
              "    <tr>\n",
              "      <th>11</th>\n",
              "      <td>1.007067</td>\n",
              "      <td>1.621180</td>\n",
              "      <td>1.976714</td>\n",
              "      <td>1.696425</td>\n",
              "      <td>1.875968</td>\n",
              "    </tr>\n",
              "    <tr>\n",
              "      <th>12</th>\n",
              "      <td>1.500027</td>\n",
              "      <td>1.757678</td>\n",
              "      <td>1.515013</td>\n",
              "      <td>1.153723</td>\n",
              "      <td>1.702537</td>\n",
              "    </tr>\n",
              "    <tr>\n",
              "      <th>13</th>\n",
              "      <td>1.780197</td>\n",
              "      <td>1.749805</td>\n",
              "      <td>1.051938</td>\n",
              "      <td>1.340968</td>\n",
              "      <td>1.556176</td>\n",
              "    </tr>\n",
              "    <tr>\n",
              "      <th>14</th>\n",
              "      <td>1.491221</td>\n",
              "      <td>1.444640</td>\n",
              "      <td>1.513337</td>\n",
              "      <td>1.263043</td>\n",
              "      <td>1.597211</td>\n",
              "    </tr>\n",
              "    <tr>\n",
              "      <th>15</th>\n",
              "      <td>1.053867</td>\n",
              "      <td>1.204110</td>\n",
              "      <td>1.532755</td>\n",
              "      <td>1.361657</td>\n",
              "      <td>1.179896</td>\n",
              "    </tr>\n",
              "    <tr>\n",
              "      <th>16</th>\n",
              "      <td>1.672572</td>\n",
              "      <td>1.793971</td>\n",
              "      <td>1.311176</td>\n",
              "      <td>1.225710</td>\n",
              "      <td>1.851356</td>\n",
              "    </tr>\n",
              "    <tr>\n",
              "      <th>17</th>\n",
              "      <td>1.336856</td>\n",
              "      <td>1.122757</td>\n",
              "      <td>1.401936</td>\n",
              "      <td>1.729094</td>\n",
              "      <td>1.422374</td>\n",
              "    </tr>\n",
              "    <tr>\n",
              "      <th>18</th>\n",
              "      <td>1.975795</td>\n",
              "      <td>1.932697</td>\n",
              "      <td>1.897102</td>\n",
              "      <td>1.856370</td>\n",
              "      <td>1.096505</td>\n",
              "    </tr>\n",
              "    <tr>\n",
              "      <th>19</th>\n",
              "      <td>1.983705</td>\n",
              "      <td>1.165348</td>\n",
              "      <td>1.490595</td>\n",
              "      <td>1.750341</td>\n",
              "      <td>1.115317</td>\n",
              "    </tr>\n",
              "  </tbody>\n",
              "</table>\n",
              "</div>\n",
              "      <button class=\"colab-df-convert\" onclick=\"convertToInteractive('df-19436b12-b40d-46c7-bd67-c5b194b91d4f')\"\n",
              "              title=\"Convert this dataframe to an interactive table.\"\n",
              "              style=\"display:none;\">\n",
              "        \n",
              "  <svg xmlns=\"http://www.w3.org/2000/svg\" height=\"24px\"viewBox=\"0 0 24 24\"\n",
              "       width=\"24px\">\n",
              "    <path d=\"M0 0h24v24H0V0z\" fill=\"none\"/>\n",
              "    <path d=\"M18.56 5.44l.94 2.06.94-2.06 2.06-.94-2.06-.94-.94-2.06-.94 2.06-2.06.94zm-11 1L8.5 8.5l.94-2.06 2.06-.94-2.06-.94L8.5 2.5l-.94 2.06-2.06.94zm10 10l.94 2.06.94-2.06 2.06-.94-2.06-.94-.94-2.06-.94 2.06-2.06.94z\"/><path d=\"M17.41 7.96l-1.37-1.37c-.4-.4-.92-.59-1.43-.59-.52 0-1.04.2-1.43.59L10.3 9.45l-7.72 7.72c-.78.78-.78 2.05 0 2.83L4 21.41c.39.39.9.59 1.41.59.51 0 1.02-.2 1.41-.59l7.78-7.78 2.81-2.81c.8-.78.8-2.07 0-2.86zM5.41 20L4 18.59l7.72-7.72 1.47 1.35L5.41 20z\"/>\n",
              "  </svg>\n",
              "      </button>\n",
              "      \n",
              "  <style>\n",
              "    .colab-df-container {\n",
              "      display:flex;\n",
              "      flex-wrap:wrap;\n",
              "      gap: 12px;\n",
              "    }\n",
              "\n",
              "    .colab-df-convert {\n",
              "      background-color: #E8F0FE;\n",
              "      border: none;\n",
              "      border-radius: 50%;\n",
              "      cursor: pointer;\n",
              "      display: none;\n",
              "      fill: #1967D2;\n",
              "      height: 32px;\n",
              "      padding: 0 0 0 0;\n",
              "      width: 32px;\n",
              "    }\n",
              "\n",
              "    .colab-df-convert:hover {\n",
              "      background-color: #E2EBFA;\n",
              "      box-shadow: 0px 1px 2px rgba(60, 64, 67, 0.3), 0px 1px 3px 1px rgba(60, 64, 67, 0.15);\n",
              "      fill: #174EA6;\n",
              "    }\n",
              "\n",
              "    [theme=dark] .colab-df-convert {\n",
              "      background-color: #3B4455;\n",
              "      fill: #D2E3FC;\n",
              "    }\n",
              "\n",
              "    [theme=dark] .colab-df-convert:hover {\n",
              "      background-color: #434B5C;\n",
              "      box-shadow: 0px 1px 3px 1px rgba(0, 0, 0, 0.15);\n",
              "      filter: drop-shadow(0px 1px 2px rgba(0, 0, 0, 0.3));\n",
              "      fill: #FFFFFF;\n",
              "    }\n",
              "  </style>\n",
              "\n",
              "      <script>\n",
              "        const buttonEl =\n",
              "          document.querySelector('#df-19436b12-b40d-46c7-bd67-c5b194b91d4f button.colab-df-convert');\n",
              "        buttonEl.style.display =\n",
              "          google.colab.kernel.accessAllowed ? 'block' : 'none';\n",
              "\n",
              "        async function convertToInteractive(key) {\n",
              "          const element = document.querySelector('#df-19436b12-b40d-46c7-bd67-c5b194b91d4f');\n",
              "          const dataTable =\n",
              "            await google.colab.kernel.invokeFunction('convertToInteractive',\n",
              "                                                     [key], {});\n",
              "          if (!dataTable) return;\n",
              "\n",
              "          const docLinkHtml = 'Like what you see? Visit the ' +\n",
              "            '<a target=\"_blank\" href=https://colab.research.google.com/notebooks/data_table.ipynb>data table notebook</a>'\n",
              "            + ' to learn more about interactive tables.';\n",
              "          element.innerHTML = '';\n",
              "          dataTable['output_type'] = 'display_data';\n",
              "          await google.colab.output.renderOutput(dataTable, element);\n",
              "          const docLink = document.createElement('div');\n",
              "          docLink.innerHTML = docLinkHtml;\n",
              "          element.appendChild(docLink);\n",
              "        }\n",
              "      </script>\n",
              "    </div>\n",
              "  </div>\n",
              "  "
            ]
          },
          "metadata": {},
          "execution_count": 108
        }
      ],
      "source": [
        "df"
      ]
    },
    {
      "cell_type": "code",
      "execution_count": 111,
      "id": "7b21d5f4",
      "metadata": {
        "colab": {
          "base_uri": "https://localhost:8080/"
        },
        "id": "7b21d5f4",
        "outputId": "eb58a2a1-3f13-454f-9e3d-891033bdbf7b"
      },
      "outputs": [
        {
          "output_type": "stream",
          "name": "stdout",
          "text": [
            "1.7792595381112448\n"
          ]
        }
      ],
      "source": [
        "print(df.iloc[2][2])\n"
      ]
    },
    {
      "cell_type": "code",
      "execution_count": 112,
      "id": "11d15534",
      "metadata": {
        "id": "11d15534"
      },
      "outputs": [],
      "source": [
        "colmwise=df.describe()"
      ]
    },
    {
      "cell_type": "code",
      "execution_count": 113,
      "id": "5988d4fa",
      "metadata": {
        "colab": {
          "base_uri": "https://localhost:8080/",
          "height": 300
        },
        "id": "5988d4fa",
        "outputId": "936a15da-0c2f-4374-b277-cde75d201ecf"
      },
      "outputs": [
        {
          "output_type": "execute_result",
          "data": {
            "text/plain": [
              "               a          b          c          d          e\n",
              "count  20.000000  20.000000  20.000000  20.000000  20.000000\n",
              "mean    1.531954   1.520368   1.599263   1.515248   1.520951\n",
              "std     0.300873   0.305154   0.291563   0.301118   0.283995\n",
              "min     1.007067   1.005703   1.051938   1.144693   1.051822\n",
              "25%     1.354848   1.234232   1.468430   1.233300   1.275520\n",
              "50%     1.507484   1.572295   1.525931   1.448559   1.564775\n",
              "75%     1.778034   1.766751   1.809923   1.764494   1.739104\n",
              "max     1.983705   1.932697   1.992028   1.980513   1.951630"
            ],
            "text/html": [
              "\n",
              "  <div id=\"df-00e35250-cae9-43eb-b010-3878825fde86\">\n",
              "    <div class=\"colab-df-container\">\n",
              "      <div>\n",
              "<style scoped>\n",
              "    .dataframe tbody tr th:only-of-type {\n",
              "        vertical-align: middle;\n",
              "    }\n",
              "\n",
              "    .dataframe tbody tr th {\n",
              "        vertical-align: top;\n",
              "    }\n",
              "\n",
              "    .dataframe thead th {\n",
              "        text-align: right;\n",
              "    }\n",
              "</style>\n",
              "<table border=\"1\" class=\"dataframe\">\n",
              "  <thead>\n",
              "    <tr style=\"text-align: right;\">\n",
              "      <th></th>\n",
              "      <th>a</th>\n",
              "      <th>b</th>\n",
              "      <th>c</th>\n",
              "      <th>d</th>\n",
              "      <th>e</th>\n",
              "    </tr>\n",
              "  </thead>\n",
              "  <tbody>\n",
              "    <tr>\n",
              "      <th>count</th>\n",
              "      <td>20.000000</td>\n",
              "      <td>20.000000</td>\n",
              "      <td>20.000000</td>\n",
              "      <td>20.000000</td>\n",
              "      <td>20.000000</td>\n",
              "    </tr>\n",
              "    <tr>\n",
              "      <th>mean</th>\n",
              "      <td>1.531954</td>\n",
              "      <td>1.520368</td>\n",
              "      <td>1.599263</td>\n",
              "      <td>1.515248</td>\n",
              "      <td>1.520951</td>\n",
              "    </tr>\n",
              "    <tr>\n",
              "      <th>std</th>\n",
              "      <td>0.300873</td>\n",
              "      <td>0.305154</td>\n",
              "      <td>0.291563</td>\n",
              "      <td>0.301118</td>\n",
              "      <td>0.283995</td>\n",
              "    </tr>\n",
              "    <tr>\n",
              "      <th>min</th>\n",
              "      <td>1.007067</td>\n",
              "      <td>1.005703</td>\n",
              "      <td>1.051938</td>\n",
              "      <td>1.144693</td>\n",
              "      <td>1.051822</td>\n",
              "    </tr>\n",
              "    <tr>\n",
              "      <th>25%</th>\n",
              "      <td>1.354848</td>\n",
              "      <td>1.234232</td>\n",
              "      <td>1.468430</td>\n",
              "      <td>1.233300</td>\n",
              "      <td>1.275520</td>\n",
              "    </tr>\n",
              "    <tr>\n",
              "      <th>50%</th>\n",
              "      <td>1.507484</td>\n",
              "      <td>1.572295</td>\n",
              "      <td>1.525931</td>\n",
              "      <td>1.448559</td>\n",
              "      <td>1.564775</td>\n",
              "    </tr>\n",
              "    <tr>\n",
              "      <th>75%</th>\n",
              "      <td>1.778034</td>\n",
              "      <td>1.766751</td>\n",
              "      <td>1.809923</td>\n",
              "      <td>1.764494</td>\n",
              "      <td>1.739104</td>\n",
              "    </tr>\n",
              "    <tr>\n",
              "      <th>max</th>\n",
              "      <td>1.983705</td>\n",
              "      <td>1.932697</td>\n",
              "      <td>1.992028</td>\n",
              "      <td>1.980513</td>\n",
              "      <td>1.951630</td>\n",
              "    </tr>\n",
              "  </tbody>\n",
              "</table>\n",
              "</div>\n",
              "      <button class=\"colab-df-convert\" onclick=\"convertToInteractive('df-00e35250-cae9-43eb-b010-3878825fde86')\"\n",
              "              title=\"Convert this dataframe to an interactive table.\"\n",
              "              style=\"display:none;\">\n",
              "        \n",
              "  <svg xmlns=\"http://www.w3.org/2000/svg\" height=\"24px\"viewBox=\"0 0 24 24\"\n",
              "       width=\"24px\">\n",
              "    <path d=\"M0 0h24v24H0V0z\" fill=\"none\"/>\n",
              "    <path d=\"M18.56 5.44l.94 2.06.94-2.06 2.06-.94-2.06-.94-.94-2.06-.94 2.06-2.06.94zm-11 1L8.5 8.5l.94-2.06 2.06-.94-2.06-.94L8.5 2.5l-.94 2.06-2.06.94zm10 10l.94 2.06.94-2.06 2.06-.94-2.06-.94-.94-2.06-.94 2.06-2.06.94z\"/><path d=\"M17.41 7.96l-1.37-1.37c-.4-.4-.92-.59-1.43-.59-.52 0-1.04.2-1.43.59L10.3 9.45l-7.72 7.72c-.78.78-.78 2.05 0 2.83L4 21.41c.39.39.9.59 1.41.59.51 0 1.02-.2 1.41-.59l7.78-7.78 2.81-2.81c.8-.78.8-2.07 0-2.86zM5.41 20L4 18.59l7.72-7.72 1.47 1.35L5.41 20z\"/>\n",
              "  </svg>\n",
              "      </button>\n",
              "      \n",
              "  <style>\n",
              "    .colab-df-container {\n",
              "      display:flex;\n",
              "      flex-wrap:wrap;\n",
              "      gap: 12px;\n",
              "    }\n",
              "\n",
              "    .colab-df-convert {\n",
              "      background-color: #E8F0FE;\n",
              "      border: none;\n",
              "      border-radius: 50%;\n",
              "      cursor: pointer;\n",
              "      display: none;\n",
              "      fill: #1967D2;\n",
              "      height: 32px;\n",
              "      padding: 0 0 0 0;\n",
              "      width: 32px;\n",
              "    }\n",
              "\n",
              "    .colab-df-convert:hover {\n",
              "      background-color: #E2EBFA;\n",
              "      box-shadow: 0px 1px 2px rgba(60, 64, 67, 0.3), 0px 1px 3px 1px rgba(60, 64, 67, 0.15);\n",
              "      fill: #174EA6;\n",
              "    }\n",
              "\n",
              "    [theme=dark] .colab-df-convert {\n",
              "      background-color: #3B4455;\n",
              "      fill: #D2E3FC;\n",
              "    }\n",
              "\n",
              "    [theme=dark] .colab-df-convert:hover {\n",
              "      background-color: #434B5C;\n",
              "      box-shadow: 0px 1px 3px 1px rgba(0, 0, 0, 0.15);\n",
              "      filter: drop-shadow(0px 1px 2px rgba(0, 0, 0, 0.3));\n",
              "      fill: #FFFFFF;\n",
              "    }\n",
              "  </style>\n",
              "\n",
              "      <script>\n",
              "        const buttonEl =\n",
              "          document.querySelector('#df-00e35250-cae9-43eb-b010-3878825fde86 button.colab-df-convert');\n",
              "        buttonEl.style.display =\n",
              "          google.colab.kernel.accessAllowed ? 'block' : 'none';\n",
              "\n",
              "        async function convertToInteractive(key) {\n",
              "          const element = document.querySelector('#df-00e35250-cae9-43eb-b010-3878825fde86');\n",
              "          const dataTable =\n",
              "            await google.colab.kernel.invokeFunction('convertToInteractive',\n",
              "                                                     [key], {});\n",
              "          if (!dataTable) return;\n",
              "\n",
              "          const docLinkHtml = 'Like what you see? Visit the ' +\n",
              "            '<a target=\"_blank\" href=https://colab.research.google.com/notebooks/data_table.ipynb>data table notebook</a>'\n",
              "            + ' to learn more about interactive tables.';\n",
              "          element.innerHTML = '';\n",
              "          dataTable['output_type'] = 'display_data';\n",
              "          await google.colab.output.renderOutput(dataTable, element);\n",
              "          const docLink = document.createElement('div');\n",
              "          docLink.innerHTML = docLinkHtml;\n",
              "          element.appendChild(docLink);\n",
              "        }\n",
              "      </script>\n",
              "    </div>\n",
              "  </div>\n",
              "  "
            ]
          },
          "metadata": {},
          "execution_count": 113
        }
      ],
      "source": [
        "colmwise"
      ]
    },
    {
      "cell_type": "code",
      "execution_count": 114,
      "id": "92926a50",
      "metadata": {
        "colab": {
          "base_uri": "https://localhost:8080/"
        },
        "id": "92926a50",
        "outputId": "39e69337-0ac3-46dc-bf79-7a6ecf8d12c3"
      },
      "outputs": [
        {
          "output_type": "stream",
          "name": "stdout",
          "text": [
            "Column number 2 has max STD i.e: 0.3051538854561548\n"
          ]
        }
      ],
      "source": [
        "max=colmwise.iloc[2][0]\n",
        "col=0\n",
        "for i in range(1,4):\n",
        "    if max<colmwise.iloc[2][i]:\n",
        "        max=colmwise.iloc[2][i]\n",
        "        col=i\n",
        "    else:\n",
        "        max=max\n",
        "print(\"Column number \"+str(col+1)+\" has max STD i.e: \"+str(max))"
      ]
    },
    {
      "cell_type": "code",
      "execution_count": 115,
      "id": "75ac5d42",
      "metadata": {
        "colab": {
          "base_uri": "https://localhost:8080/",
          "height": 37
        },
        "id": "75ac5d42",
        "outputId": "66fae40f-8195-49e9-f57b-bdc79aefd6ab"
      },
      "outputs": [
        {
          "output_type": "execute_result",
          "data": {
            "text/plain": [
              "0.3051538854561548"
            ],
            "image/png": "[encoded data removed]",
            "text/latex": "$\\displaystyle 0.305153885456155$"
          },
          "metadata": {},
          "execution_count": 115
        }
      ],
      "source": [
        "df.std(axis=0).max() #max standard deviation column-wise"
      ]
    },
    {
      "cell_type": "code",
      "execution_count": 115,
      "id": "a73c03f5",
      "metadata": {
        "id": "a73c03f5"
      },
      "outputs": [],
      "source": []
    },
    {
      "cell_type": "code",
      "execution_count": 116,
      "id": "b5abe886",
      "metadata": {
        "id": "b5abe886"
      },
      "outputs": [],
      "source": [
        "rowwise=df.apply(pd.DataFrame.describe, axis=1) # for getting data for each row"
      ]
    },
    {
      "cell_type": "code",
      "execution_count": 117,
      "id": "d4fa052c",
      "metadata": {
        "colab": {
          "base_uri": "https://localhost:8080/",
          "height": 676
        },
        "id": "d4fa052c",
        "outputId": "b0b58188-29ab-435a-ddde-d978e940f774"
      },
      "outputs": [
        {
          "output_type": "execute_result",
          "data": {
            "text/plain": [
              "    count      mean       std       min       25%       50%       75%  \\\n",
              "0     5.0  1.681937  0.296364  1.199627  1.624131  1.789950  1.826090   \n",
              "1     5.0  1.724007  0.208307  1.514941  1.519106  1.733165  1.872312   \n",
              "2     5.0  1.560030  0.296483  1.233665  1.244272  1.708581  1.779260   \n",
              "3     5.0  1.434955  0.338018  1.005703  1.169404  1.500594  1.746666   \n",
              "4     5.0  1.651054  0.317330  1.170945  1.515329  1.777313  1.800750   \n",
              "5     5.0  1.232933  0.121685  1.031631  1.232206  1.246589  1.307395   \n",
              "6     5.0  1.661997  0.375339  1.048240  1.573374  1.829163  1.867181   \n",
              "7     5.0  1.493193  0.249952  1.090626  1.464533  1.535461  1.618424   \n",
              "8     5.0  1.416551  0.281285  1.051822  1.233973  1.489929  1.526166   \n",
              "9     5.0  1.590827  0.290266  1.144693  1.517330  1.659853  1.701475   \n",
              "10    5.0  1.691904  0.260893  1.360845  1.518887  1.681011  1.947147   \n",
              "11    5.0  1.635471  0.378516  1.007067  1.621180  1.696425  1.875968   \n",
              "12    5.0  1.525796  0.236762  1.153723  1.500027  1.515013  1.702537   \n",
              "13    5.0  1.495817  0.304151  1.051938  1.340968  1.556176  1.749805   \n",
              "14    5.0  1.461890  0.124154  1.263043  1.444640  1.491221  1.513337   \n",
              "15    5.0  1.266457  0.184765  1.053867  1.179896  1.204110  1.361657   \n",
              "16    5.0  1.570957  0.285204  1.225710  1.311176  1.672572  1.793971   \n",
              "17    5.0  1.402603  0.217729  1.122757  1.336856  1.401936  1.422374   \n",
              "18    5.0  1.751694  0.368902  1.096505  1.856370  1.897102  1.932697   \n",
              "19    5.0  1.501061  0.373061  1.115317  1.165348  1.490595  1.750341   \n",
              "\n",
              "         max  \n",
              "0   1.969889  \n",
              "1   1.980513  \n",
              "2   1.834371  \n",
              "3   1.752409  \n",
              "4   1.990933  \n",
              "5   1.346842  \n",
              "6   1.992028  \n",
              "7   1.756922  \n",
              "8   1.780864  \n",
              "9   1.930785  \n",
              "10  1.951630  \n",
              "11  1.976714  \n",
              "12  1.757678  \n",
              "13  1.780197  \n",
              "14  1.597211  \n",
              "15  1.532755  \n",
              "16  1.851356  \n",
              "17  1.729094  \n",
              "18  1.975795  \n",
              "19  1.983705  "
            ],
            "text/html": [
              "\n",
              "  <div id=\"df-fd27651c-d775-41e3-a938-d48ff8f94901\">\n",
              "    <div class=\"colab-df-container\">\n",
              "      <div>\n",
              "<style scoped>\n",
              "    .dataframe tbody tr th:only-of-type {\n",
              "        vertical-align: middle;\n",
              "    }\n",
              "\n",
              "    .dataframe tbody tr th {\n",
              "        vertical-align: top;\n",
              "    }\n",
              "\n",
              "    .dataframe thead th {\n",
              "        text-align: right;\n",
              "    }\n",
              "</style>\n",
              "<table border=\"1\" class=\"dataframe\">\n",
              "  <thead>\n",
              "    <tr style=\"text-align: right;\">\n",
              "      <th></th>\n",
              "      <th>count</th>\n",
              "      <th>mean</th>\n",
              "      <th>std</th>\n",
              "      <th>min</th>\n",
              "      <th>25%</th>\n",
              "      <th>50%</th>\n",
              "      <th>75%</th>\n",
              "      <th>max</th>\n",
              "    </tr>\n",
              "  </thead>\n",
              "  <tbody>\n",
              "    <tr>\n",
              "      <th>0</th>\n",
              "      <td>5.0</td>\n",
              "      <td>1.681937</td>\n",
              "      <td>0.296364</td>\n",
              "      <td>1.199627</td>\n",
              "      <td>1.624131</td>\n",
              "      <td>1.789950</td>\n",
              "      <td>1.826090</td>\n",
              "      <td>1.969889</td>\n",
              "    </tr>\n",
              "    <tr>\n",
              "      <th>1</th>\n",
              "      <td>5.0</td>\n",
              "      <td>1.724007</td>\n",
              "      <td>0.208307</td>\n",
              "      <td>1.514941</td>\n",
              "      <td>1.519106</td>\n",
              "      <td>1.733165</td>\n",
              "      <td>1.872312</td>\n",
              "      <td>1.980513</td>\n",
              "    </tr>\n",
              "    <tr>\n",
              "      <th>2</th>\n",
              "      <td>5.0</td>\n",
              "      <td>1.560030</td>\n",
              "      <td>0.296483</td>\n",
              "      <td>1.233665</td>\n",
              "      <td>1.244272</td>\n",
              "      <td>1.708581</td>\n",
              "      <td>1.779260</td>\n",
              "      <td>1.834371</td>\n",
              "    </tr>\n",
              "    <tr>\n",
              "      <th>3</th>\n",
              "      <td>5.0</td>\n",
              "      <td>1.434955</td>\n",
              "      <td>0.338018</td>\n",
              "      <td>1.005703</td>\n",
              "      <td>1.169404</td>\n",
              "      <td>1.500594</td>\n",
              "      <td>1.746666</td>\n",
              "      <td>1.752409</td>\n",
              "    </tr>\n",
              "    <tr>\n",
              "      <th>4</th>\n",
              "      <td>5.0</td>\n",
              "      <td>1.651054</td>\n",
              "      <td>0.317330</td>\n",
              "      <td>1.170945</td>\n",
              "      <td>1.515329</td>\n",
              "      <td>1.777313</td>\n",
              "      <td>1.800750</td>\n",
              "      <td>1.990933</td>\n",
              "    </tr>\n",
              "    <tr>\n",
              "      <th>5</th>\n",
              "      <td>5.0</td>\n",
              "      <td>1.232933</td>\n",
              "      <td>0.121685</td>\n",
              "      <td>1.031631</td>\n",
              "      <td>1.232206</td>\n",
              "      <td>1.246589</td>\n",
              "      <td>1.307395</td>\n",
              "      <td>1.346842</td>\n",
              "    </tr>\n",
              "    <tr>\n",
              "      <th>6</th>\n",
              "      <td>5.0</td>\n",
              "      <td>1.661997</td>\n",
              "      <td>0.375339</td>\n",
              "      <td>1.048240</td>\n",
              "      <td>1.573374</td>\n",
              "      <td>1.829163</td>\n",
              "      <td>1.867181</td>\n",
              "      <td>1.992028</td>\n",
              "    </tr>\n",
              "    <tr>\n",
              "      <th>7</th>\n",
              "      <td>5.0</td>\n",
              "      <td>1.493193</td>\n",
              "      <td>0.249952</td>\n",
              "      <td>1.090626</td>\n",
              "      <td>1.464533</td>\n",
              "      <td>1.535461</td>\n",
              "      <td>1.618424</td>\n",
              "      <td>1.756922</td>\n",
              "    </tr>\n",
              "    <tr>\n",
              "      <th>8</th>\n",
              "      <td>5.0</td>\n",
              "      <td>1.416551</td>\n",
              "      <td>0.281285</td>\n",
              "      <td>1.051822</td>\n",
              "      <td>1.233973</td>\n",
              "      <td>1.489929</td>\n",
              "      <td>1.526166</td>\n",
              "      <td>1.780864</td>\n",
              "    </tr>\n",
              "    <tr>\n",
              "      <th>9</th>\n",
              "      <td>5.0</td>\n",
              "      <td>1.590827</td>\n",
              "      <td>0.290266</td>\n",
              "      <td>1.144693</td>\n",
              "      <td>1.517330</td>\n",
              "      <td>1.659853</td>\n",
              "      <td>1.701475</td>\n",
              "      <td>1.930785</td>\n",
              "    </tr>\n",
              "    <tr>\n",
              "      <th>10</th>\n",
              "      <td>5.0</td>\n",
              "      <td>1.691904</td>\n",
              "      <td>0.260893</td>\n",
              "      <td>1.360845</td>\n",
              "      <td>1.518887</td>\n",
              "      <td>1.681011</td>\n",
              "      <td>1.947147</td>\n",
              "      <td>1.951630</td>\n",
              "    </tr>\n",
              "    <tr>\n",
              "      <th>11</th>\n",
              "      <td>5.0</td>\n",
              "      <td>1.635471</td>\n",
              "      <td>0.378516</td>\n",
              "      <td>1.007067</td>\n",
              "      <td>1.621180</td>\n",
              "      <td>1.696425</td>\n",
              "      <td>1.875968</td>\n",
              "      <td>1.976714</td>\n",
              "    </tr>\n",
              "    <tr>\n",
              "      <th>12</th>\n",
              "      <td>5.0</td>\n",
              "      <td>1.525796</td>\n",
              "      <td>0.236762</td>\n",
              "      <td>1.153723</td>\n",
              "      <td>1.500027</td>\n",
              "      <td>1.515013</td>\n",
              "      <td>1.702537</td>\n",
              "      <td>1.757678</td>\n",
              "    </tr>\n",
              "    <tr>\n",
              "      <th>13</th>\n",
              "      <td>5.0</td>\n",
              "      <td>1.495817</td>\n",
              "      <td>0.304151</td>\n",
              "      <td>1.051938</td>\n",
              "      <td>1.340968</td>\n",
              "      <td>1.556176</td>\n",
              "      <td>1.749805</td>\n",
              "      <td>1.780197</td>\n",
              "    </tr>\n",
              "    <tr>\n",
              "      <th>14</th>\n",
              "      <td>5.0</td>\n",
              "      <td>1.461890</td>\n",
              "      <td>0.124154</td>\n",
              "      <td>1.263043</td>\n",
              "      <td>1.444640</td>\n",
              "      <td>1.491221</td>\n",
              "      <td>1.513337</td>\n",
              "      <td>1.597211</td>\n",
              "    </tr>\n",
              "    <tr>\n",
              "      <th>15</th>\n",
              "      <td>5.0</td>\n",
              "      <td>1.266457</td>\n",
              "      <td>0.184765</td>\n",
              "      <td>1.053867</td>\n",
              "      <td>1.179896</td>\n",
              "      <td>1.204110</td>\n",
              "      <td>1.361657</td>\n",
              "      <td>1.532755</td>\n",
              "    </tr>\n",
              "    <tr>\n",
              "      <th>16</th>\n",
              "      <td>5.0</td>\n",
              "      <td>1.570957</td>\n",
              "      <td>0.285204</td>\n",
              "      <td>1.225710</td>\n",
              "      <td>1.311176</td>\n",
              "      <td>1.672572</td>\n",
              "      <td>1.793971</td>\n",
              "      <td>1.851356</td>\n",
              "    </tr>\n",
              "    <tr>\n",
              "      <th>17</th>\n",
              "      <td>5.0</td>\n",
              "      <td>1.402603</td>\n",
              "      <td>0.217729</td>\n",
              "      <td>1.122757</td>\n",
              "      <td>1.336856</td>\n",
              "      <td>1.401936</td>\n",
              "      <td>1.422374</td>\n",
              "      <td>1.729094</td>\n",
              "    </tr>\n",
              "    <tr>\n",
              "      <th>18</th>\n",
              "      <td>5.0</td>\n",
              "      <td>1.751694</td>\n",
              "      <td>0.368902</td>\n",
              "      <td>1.096505</td>\n",
              "      <td>1.856370</td>\n",
              "      <td>1.897102</td>\n",
              "      <td>1.932697</td>\n",
              "      <td>1.975795</td>\n",
              "    </tr>\n",
              "    <tr>\n",
              "      <th>19</th>\n",
              "      <td>5.0</td>\n",
              "      <td>1.501061</td>\n",
              "      <td>0.373061</td>\n",
              "      <td>1.115317</td>\n",
              "      <td>1.165348</td>\n",
              "      <td>1.490595</td>\n",
              "      <td>1.750341</td>\n",
              "      <td>1.983705</td>\n",
              "    </tr>\n",
              "  </tbody>\n",
              "</table>\n",
              "</div>\n",
              "      <button class=\"colab-df-convert\" onclick=\"convertToInteractive('df-fd27651c-d775-41e3-a938-d48ff8f94901')\"\n",
              "              title=\"Convert this dataframe to an interactive table.\"\n",
              "              style=\"display:none;\">\n",
              "        \n",
              "  <svg xmlns=\"http://www.w3.org/2000/svg\" height=\"24px\"viewBox=\"0 0 24 24\"\n",
              "       width=\"24px\">\n",
              "    <path d=\"M0 0h24v24H0V0z\" fill=\"none\"/>\n",
              "    <path d=\"M18.56 5.44l.94 2.06.94-2.06 2.06-.94-2.06-.94-.94-2.06-.94 2.06-2.06.94zm-11 1L8.5 8.5l.94-2.06 2.06-.94-2.06-.94L8.5 2.5l-.94 2.06-2.06.94zm10 10l.94 2.06.94-2.06 2.06-.94-2.06-.94-.94-2.06-.94 2.06-2.06.94z\"/><path d=\"M17.41 7.96l-1.37-1.37c-.4-.4-.92-.59-1.43-.59-.52 0-1.04.2-1.43.59L10.3 9.45l-7.72 7.72c-.78.78-.78 2.05 0 2.83L4 21.41c.39.39.9.59 1.41.59.51 0 1.02-.2 1.41-.59l7.78-7.78 2.81-2.81c.8-.78.8-2.07 0-2.86zM5.41 20L4 18.59l7.72-7.72 1.47 1.35L5.41 20z\"/>\n",
              "  </svg>\n",
              "      </button>\n",
              "      \n",
              "  <style>\n",
              "    .colab-df-container {\n",
              "      display:flex;\n",
              "      flex-wrap:wrap;\n",
              "      gap: 12px;\n",
              "    }\n",
              "\n",
              "    .colab-df-convert {\n",
              "      background-color: #E8F0FE;\n",
              "      border: none;\n",
              "      border-radius: 50%;\n",
              "      cursor: pointer;\n",
              "      display: none;\n",
              "      fill: #1967D2;\n",
              "      height: 32px;\n",
              "      padding: 0 0 0 0;\n",
              "      width: 32px;\n",
              "    }\n",
              "\n",
              "    .colab-df-convert:hover {\n",
              "      background-color: #E2EBFA;\n",
              "      box-shadow: 0px 1px 2px rgba(60, 64, 67, 0.3), 0px 1px 3px 1px rgba(60, 64, 67, 0.15);\n",
              "      fill: #174EA6;\n",
              "    }\n",
              "\n",
              "    [theme=dark] .colab-df-convert {\n",
              "      background-color: #3B4455;\n",
              "      fill: #D2E3FC;\n",
              "    }\n",
              "\n",
              "    [theme=dark] .colab-df-convert:hover {\n",
              "      background-color: #434B5C;\n",
              "      box-shadow: 0px 1px 3px 1px rgba(0, 0, 0, 0.15);\n",
              "      filter: drop-shadow(0px 1px 2px rgba(0, 0, 0, 0.3));\n",
              "      fill: #FFFFFF;\n",
              "    }\n",
              "  </style>\n",
              "\n",
              "      <script>\n",
              "        const buttonEl =\n",
              "          document.querySelector('#df-fd27651c-d775-41e3-a938-d48ff8f94901 button.colab-df-convert');\n",
              "        buttonEl.style.display =\n",
              "          google.colab.kernel.accessAllowed ? 'block' : 'none';\n",
              "\n",
              "        async function convertToInteractive(key) {\n",
              "          const element = document.querySelector('#df-fd27651c-d775-41e3-a938-d48ff8f94901');\n",
              "          const dataTable =\n",
              "            await google.colab.kernel.invokeFunction('convertToInteractive',\n",
              "                                                     [key], {});\n",
              "          if (!dataTable) return;\n",
              "\n",
              "          const docLinkHtml = 'Like what you see? Visit the ' +\n",
              "            '<a target=\"_blank\" href=https://colab.research.google.com/notebooks/data_table.ipynb>data table notebook</a>'\n",
              "            + ' to learn more about interactive tables.';\n",
              "          element.innerHTML = '';\n",
              "          dataTable['output_type'] = 'display_data';\n",
              "          await google.colab.output.renderOutput(dataTable, element);\n",
              "          const docLink = document.createElement('div');\n",
              "          docLink.innerHTML = docLinkHtml;\n",
              "          element.appendChild(docLink);\n",
              "        }\n",
              "      </script>\n",
              "    </div>\n",
              "  </div>\n",
              "  "
            ]
          },
          "metadata": {},
          "execution_count": 117
        }
      ],
      "source": [
        "rowwise"
      ]
    },
    {
      "cell_type": "code",
      "execution_count": 118,
      "id": "774f365c",
      "metadata": {
        "colab": {
          "base_uri": "https://localhost:8080/",
          "height": 37
        },
        "id": "774f365c",
        "outputId": "e6260faa-4309-4f0e-f738-09af645d931b"
      },
      "outputs": [
        {
          "output_type": "execute_result",
          "data": {
            "text/plain": [
              "1.232932682621864"
            ],
            "image/png": "[encoded data removed]",
            "text/latex": "$\\displaystyle 1.23293268262186$"
          },
          "metadata": {},
          "execution_count": 118
        }
      ],
      "source": [
        "df.mean(axis=1).min() # least mean row-wise"
      ]
    },
    {
      "cell_type": "code",
      "execution_count": 119,
      "id": "39ea130d",
      "metadata": {
        "colab": {
          "base_uri": "https://localhost:8080/"
        },
        "id": "39ea130d",
        "outputId": "8610adb2-e1f6-46f6-b0de-706600064bc4"
      },
      "outputs": [
        {
          "output_type": "stream",
          "name": "stdout",
          "text": [
            "Row number 5 has min mean i.e: 1.232932682621864\n"
          ]
        }
      ],
      "source": [
        "min=rowwise.iloc[0][1]\n",
        "row=0\n",
        "for i in range(1,19):\n",
        "    if min>rowwise.iloc[i][1]:\n",
        "        min=rowwise.iloc[i][1]\n",
        "        row=i\n",
        "    else:\n",
        "        min=min\n",
        "print(\"Row number \"+str(row)+\" has min mean i.e: \"+str(min))"
      ]
    },
    {
      "cell_type": "markdown",
      "id": "64425fae",
      "metadata": {
        "id": "64425fae"
      },
      "source": [
        "### Question 11: Add a new column to the dataframe called “f” which is the sum of the columns “a”, “b”, “c”, “d”, “e”. Create another column called “g”. The value in the column “g” should be “LT8” if the value in the column “f” is less than 8 and “GT8” otherwise. Find the number of rows in the dataframe where the value in the column “g” is “LT8”. Find the standard deviation of the column “f” for the rows where the value in the column “g” is “LT8” and “GT8” respectively."
      ]
    },
    {
      "cell_type": "code",
      "execution_count": 120,
      "id": "d6c3019e",
      "metadata": {
        "colab": {
          "base_uri": "https://localhost:8080/",
          "height": 676
        },
        "id": "d6c3019e",
        "outputId": "8ca04164-cfe9-4548-da92-c98bdd1a91b4"
      },
      "outputs": [
        {
          "output_type": "execute_result",
          "data": {
            "text/plain": [
              "           a         b         c         d         e         f    g\n",
              "0   1.789950  1.826090  1.969889  1.199627  1.624131  8.409687  GT8\n",
              "1   1.514941  1.872312  1.519106  1.980513  1.733165  8.620036  GT8\n",
              "2   1.708581  1.244272  1.779260  1.233665  1.834371  7.800148  LT8\n",
              "3   1.169404  1.005703  1.746666  1.752409  1.500594  7.174777  LT8\n",
              "4   1.777313  1.515329  1.990933  1.800750  1.170945  8.255270  GT8\n",
              "5   1.031631  1.346842  1.246589  1.232206  1.307395  6.164663  LT8\n",
              "6   1.829163  1.048240  1.992028  1.867181  1.573374  8.309987  GT8\n",
              "7   1.464533  1.618424  1.090626  1.535461  1.756922  7.465966  LT8\n",
              "8   1.489929  1.526166  1.780864  1.233973  1.051822  7.082754  LT8\n",
              "9   1.701475  1.930785  1.659853  1.144693  1.517330  7.954135  LT8\n",
              "10  1.360845  1.681011  1.518887  1.947147  1.951630  8.459520  GT8\n",
              "11  1.007067  1.621180  1.976714  1.696425  1.875968  8.177353  GT8\n",
              "12  1.500027  1.757678  1.515013  1.153723  1.702537  7.628978  LT8\n",
              "13  1.780197  1.749805  1.051938  1.340968  1.556176  7.479084  LT8\n",
              "14  1.491221  1.444640  1.513337  1.263043  1.597211  7.309452  LT8\n",
              "15  1.053867  1.204110  1.532755  1.361657  1.179896  6.332286  LT8\n",
              "16  1.672572  1.793971  1.311176  1.225710  1.851356  7.854785  LT8\n",
              "17  1.336856  1.122757  1.401936  1.729094  1.422374  7.013016  LT8\n",
              "18  1.975795  1.932697  1.897102  1.856370  1.096505  8.758468  GT8\n",
              "19  1.983705  1.165348  1.490595  1.750341  1.115317  7.505306  LT8"
            ],
            "text/html": [
              "\n",
              "  <div id=\"df-3770b99b-038e-42a5-8db3-e86edb0ea519\">\n",
              "    <div class=\"colab-df-container\">\n",
              "      <div>\n",
              "<style scoped>\n",
              "    .dataframe tbody tr th:only-of-type {\n",
              "        vertical-align: middle;\n",
              "    }\n",
              "\n",
              "    .dataframe tbody tr th {\n",
              "        vertical-align: top;\n",
              "    }\n",
              "\n",
              "    .dataframe thead th {\n",
              "        text-align: right;\n",
              "    }\n",
              "</style>\n",
              "<table border=\"1\" class=\"dataframe\">\n",
              "  <thead>\n",
              "    <tr style=\"text-align: right;\">\n",
              "      <th></th>\n",
              "      <th>a</th>\n",
              "      <th>b</th>\n",
              "      <th>c</th>\n",
              "      <th>d</th>\n",
              "      <th>e</th>\n",
              "      <th>f</th>\n",
              "      <th>g</th>\n",
              "    </tr>\n",
              "  </thead>\n",
              "  <tbody>\n",
              "    <tr>\n",
              "      <th>0</th>\n",
              "      <td>1.789950</td>\n",
              "      <td>1.826090</td>\n",
              "      <td>1.969889</td>\n",
              "      <td>1.199627</td>\n",
              "      <td>1.624131</td>\n",
              "      <td>8.409687</td>\n",
              "      <td>GT8</td>\n",
              "    </tr>\n",
              "    <tr>\n",
              "      <th>1</th>\n",
              "      <td>1.514941</td>\n",
              "      <td>1.872312</td>\n",
              "      <td>1.519106</td>\n",
              "      <td>1.980513</td>\n",
              "      <td>1.733165</td>\n",
              "      <td>8.620036</td>\n",
              "      <td>GT8</td>\n",
              "    </tr>\n",
              "    <tr>\n",
              "      <th>2</th>\n",
              "      <td>1.708581</td>\n",
              "      <td>1.244272</td>\n",
              "      <td>1.779260</td>\n",
              "      <td>1.233665</td>\n",
              "      <td>1.834371</td>\n",
              "      <td>7.800148</td>\n",
              "      <td>LT8</td>\n",
              "    </tr>\n",
              "    <tr>\n",
              "      <th>3</th>\n",
              "      <td>1.169404</td>\n",
              "      <td>1.005703</td>\n",
              "      <td>1.746666</td>\n",
              "      <td>1.752409</td>\n",
              "      <td>1.500594</td>\n",
              "      <td>7.174777</td>\n",
              "      <td>LT8</td>\n",
              "    </tr>\n",
              "    <tr>\n",
              "      <th>4</th>\n",
              "      <td>1.777313</td>\n",
              "      <td>1.515329</td>\n",
              "      <td>1.990933</td>\n",
              "      <td>1.800750</td>\n",
              "      <td>1.170945</td>\n",
              "      <td>8.255270</td>\n",
              "      <td>GT8</td>\n",
              "    </tr>\n",
              "    <tr>\n",
              "      <th>5</th>\n",
              "      <td>1.031631</td>\n",
              "      <td>1.346842</td>\n",
              "      <td>1.246589</td>\n",
              "      <td>1.232206</td>\n",
              "      <td>1.307395</td>\n",
              "      <td>6.164663</td>\n",
              "      <td>LT8</td>\n",
              "    </tr>\n",
              "    <tr>\n",
              "      <th>6</th>\n",
              "      <td>1.829163</td>\n",
              "      <td>1.048240</td>\n",
              "      <td>1.992028</td>\n",
              "      <td>1.867181</td>\n",
              "      <td>1.573374</td>\n",
              "      <td>8.309987</td>\n",
              "      <td>GT8</td>\n",
              "    </tr>\n",
              "    <tr>\n",
              "      <th>7</th>\n",
              "      <td>1.464533</td>\n",
              "      <td>1.618424</td>\n",
              "      <td>1.090626</td>\n",
              "      <td>1.535461</td>\n",
              "      <td>1.756922</td>\n",
              "      <td>7.465966</td>\n",
              "      <td>LT8</td>\n",
              "    </tr>\n",
              "    <tr>\n",
              "      <th>8</th>\n",
              "      <td>1.489929</td>\n",
              "      <td>1.526166</td>\n",
              "      <td>1.780864</td>\n",
              "      <td>1.233973</td>\n",
              "      <td>1.051822</td>\n",
              "      <td>7.082754</td>\n",
              "      <td>LT8</td>\n",
              "    </tr>\n",
              "    <tr>\n",
              "      <th>9</th>\n",
              "      <td>1.701475</td>\n",
              "      <td>1.930785</td>\n",
              "      <td>1.659853</td>\n",
              "      <td>1.144693</td>\n",
              "      <td>1.517330</td>\n",
              "      <td>7.954135</td>\n",
              "      <td>LT8</td>\n",
              "    </tr>\n",
              "    <tr>\n",
              "      <th>10</th>\n",
              "      <td>1.360845</td>\n",
              "      <td>1.681011</td>\n",
              "      <td>1.518887</td>\n",
              "      <td>1.947147</td>\n",
              "      <td>1.951630</td>\n",
              "      <td>8.459520</td>\n",
              "      <td>GT8</td>\n",
              "    </tr>\n",
              "    <tr>\n",
              "      <th>11</th>\n",
              "      <td>1.007067</td>\n",
              "      <td>1.621180</td>\n",
              "      <td>1.976714</td>\n",
              "      <td>1.696425</td>\n",
              "      <td>1.875968</td>\n",
              "      <td>8.177353</td>\n",
              "      <td>GT8</td>\n",
              "    </tr>\n",
              "    <tr>\n",
              "      <th>12</th>\n",
              "      <td>1.500027</td>\n",
              "      <td>1.757678</td>\n",
              "      <td>1.515013</td>\n",
              "      <td>1.153723</td>\n",
              "      <td>1.702537</td>\n",
              "      <td>7.628978</td>\n",
              "      <td>LT8</td>\n",
              "    </tr>\n",
              "    <tr>\n",
              "      <th>13</th>\n",
              "      <td>1.780197</td>\n",
              "      <td>1.749805</td>\n",
              "      <td>1.051938</td>\n",
              "      <td>1.340968</td>\n",
              "      <td>1.556176</td>\n",
              "      <td>7.479084</td>\n",
              "      <td>LT8</td>\n",
              "    </tr>\n",
              "    <tr>\n",
              "      <th>14</th>\n",
              "      <td>1.491221</td>\n",
              "      <td>1.444640</td>\n",
              "      <td>1.513337</td>\n",
              "      <td>1.263043</td>\n",
              "      <td>1.597211</td>\n",
              "      <td>7.309452</td>\n",
              "      <td>LT8</td>\n",
              "    </tr>\n",
              "    <tr>\n",
              "      <th>15</th>\n",
              "      <td>1.053867</td>\n",
              "      <td>1.204110</td>\n",
              "      <td>1.532755</td>\n",
              "      <td>1.361657</td>\n",
              "      <td>1.179896</td>\n",
              "      <td>6.332286</td>\n",
              "      <td>LT8</td>\n",
              "    </tr>\n",
              "    <tr>\n",
              "      <th>16</th>\n",
              "      <td>1.672572</td>\n",
              "      <td>1.793971</td>\n",
              "      <td>1.311176</td>\n",
              "      <td>1.225710</td>\n",
              "      <td>1.851356</td>\n",
              "      <td>7.854785</td>\n",
              "      <td>LT8</td>\n",
              "    </tr>\n",
              "    <tr>\n",
              "      <th>17</th>\n",
              "      <td>1.336856</td>\n",
              "      <td>1.122757</td>\n",
              "      <td>1.401936</td>\n",
              "      <td>1.729094</td>\n",
              "      <td>1.422374</td>\n",
              "      <td>7.013016</td>\n",
              "      <td>LT8</td>\n",
              "    </tr>\n",
              "    <tr>\n",
              "      <th>18</th>\n",
              "      <td>1.975795</td>\n",
              "      <td>1.932697</td>\n",
              "      <td>1.897102</td>\n",
              "      <td>1.856370</td>\n",
              "      <td>1.096505</td>\n",
              "      <td>8.758468</td>\n",
              "      <td>GT8</td>\n",
              "    </tr>\n",
              "    <tr>\n",
              "      <th>19</th>\n",
              "      <td>1.983705</td>\n",
              "      <td>1.165348</td>\n",
              "      <td>1.490595</td>\n",
              "      <td>1.750341</td>\n",
              "      <td>1.115317</td>\n",
              "      <td>7.505306</td>\n",
              "      <td>LT8</td>\n",
              "    </tr>\n",
              "  </tbody>\n",
              "</table>\n",
              "</div>\n",
              "      <button class=\"colab-df-convert\" onclick=\"convertToInteractive('df-3770b99b-038e-42a5-8db3-e86edb0ea519')\"\n",
              "              title=\"Convert this dataframe to an interactive table.\"\n",
              "              style=\"display:none;\">\n",
              "        \n",
              "  <svg xmlns=\"http://www.w3.org/2000/svg\" height=\"24px\"viewBox=\"0 0 24 24\"\n",
              "       width=\"24px\">\n",
              "    <path d=\"M0 0h24v24H0V0z\" fill=\"none\"/>\n",
              "    <path d=\"M18.56 5.44l.94 2.06.94-2.06 2.06-.94-2.06-.94-.94-2.06-.94 2.06-2.06.94zm-11 1L8.5 8.5l.94-2.06 2.06-.94-2.06-.94L8.5 2.5l-.94 2.06-2.06.94zm10 10l.94 2.06.94-2.06 2.06-.94-2.06-.94-.94-2.06-.94 2.06-2.06.94z\"/><path d=\"M17.41 7.96l-1.37-1.37c-.4-.4-.92-.59-1.43-.59-.52 0-1.04.2-1.43.59L10.3 9.45l-7.72 7.72c-.78.78-.78 2.05 0 2.83L4 21.41c.39.39.9.59 1.41.59.51 0 1.02-.2 1.41-.59l7.78-7.78 2.81-2.81c.8-.78.8-2.07 0-2.86zM5.41 20L4 18.59l7.72-7.72 1.47 1.35L5.41 20z\"/>\n",
              "  </svg>\n",
              "      </button>\n",
              "      \n",
              "  <style>\n",
              "    .colab-df-container {\n",
              "      display:flex;\n",
              "      flex-wrap:wrap;\n",
              "      gap: 12px;\n",
              "    }\n",
              "\n",
              "    .colab-df-convert {\n",
              "      background-color: #E8F0FE;\n",
              "      border: none;\n",
              "      border-radius: 50%;\n",
              "      cursor: pointer;\n",
              "      display: none;\n",
              "      fill: #1967D2;\n",
              "      height: 32px;\n",
              "      padding: 0 0 0 0;\n",
              "      width: 32px;\n",
              "    }\n",
              "\n",
              "    .colab-df-convert:hover {\n",
              "      background-color: #E2EBFA;\n",
              "      box-shadow: 0px 1px 2px rgba(60, 64, 67, 0.3), 0px 1px 3px 1px rgba(60, 64, 67, 0.15);\n",
              "      fill: #174EA6;\n",
              "    }\n",
              "\n",
              "    [theme=dark] .colab-df-convert {\n",
              "      background-color: #3B4455;\n",
              "      fill: #D2E3FC;\n",
              "    }\n",
              "\n",
              "    [theme=dark] .colab-df-convert:hover {\n",
              "      background-color: #434B5C;\n",
              "      box-shadow: 0px 1px 3px 1px rgba(0, 0, 0, 0.15);\n",
              "      filter: drop-shadow(0px 1px 2px rgba(0, 0, 0, 0.3));\n",
              "      fill: #FFFFFF;\n",
              "    }\n",
              "  </style>\n",
              "\n",
              "      <script>\n",
              "        const buttonEl =\n",
              "          document.querySelector('#df-3770b99b-038e-42a5-8db3-e86edb0ea519 button.colab-df-convert');\n",
              "        buttonEl.style.display =\n",
              "          google.colab.kernel.accessAllowed ? 'block' : 'none';\n",
              "\n",
              "        async function convertToInteractive(key) {\n",
              "          const element = document.querySelector('#df-3770b99b-038e-42a5-8db3-e86edb0ea519');\n",
              "          const dataTable =\n",
              "            await google.colab.kernel.invokeFunction('convertToInteractive',\n",
              "                                                     [key], {});\n",
              "          if (!dataTable) return;\n",
              "\n",
              "          const docLinkHtml = 'Like what you see? Visit the ' +\n",
              "            '<a target=\"_blank\" href=https://colab.research.google.com/notebooks/data_table.ipynb>data table notebook</a>'\n",
              "            + ' to learn more about interactive tables.';\n",
              "          element.innerHTML = '';\n",
              "          dataTable['output_type'] = 'display_data';\n",
              "          await google.colab.output.renderOutput(dataTable, element);\n",
              "          const docLink = document.createElement('div');\n",
              "          docLink.innerHTML = docLinkHtml;\n",
              "          element.appendChild(docLink);\n",
              "        }\n",
              "      </script>\n",
              "    </div>\n",
              "  </div>\n",
              "  "
            ]
          },
          "metadata": {},
          "execution_count": 120
        }
      ],
      "source": [
        "df = df[['a','b','c', 'd', 'e']]\n",
        "df['f'] = df.sum(axis=1)\n",
        "df['g'] = df['f'].apply(lambda x: (\"LT8\" if x < 8 else \"GT8\"))\n",
        "df"
      ]
    },
    {
      "cell_type": "markdown",
      "id": "80eda6c1",
      "metadata": {
        "id": "80eda6c1"
      },
      "source": [
        "### Question 12: Write a small piece of code to explain broadcasting in numpy."
      ]
    },
    {
      "cell_type": "code",
      "execution_count": 121,
      "id": "2518e2bb",
      "metadata": {
        "colab": {
          "base_uri": "https://localhost:8080/"
        },
        "id": "2518e2bb",
        "outputId": "1051b83c-cb16-432a-8e61-919181deeb4e"
      },
      "outputs": [
        {
          "output_type": "stream",
          "name": "stdout",
          "text": [
            "[[1 2 3]\n",
            " [4 5 6]] \n",
            "\n",
            "10 \n",
            "\n",
            "[[10 20 30]\n",
            " [40 50 60]]\n"
          ]
        }
      ],
      "source": [
        "A = np.array([[1,2,3], [4,5,6]])\n",
        "print(A,\"\\n\")\n",
        " \n",
        "B = 10\n",
        "print(B,\"\\n\")\n",
        " \n",
        "C = A * B\n",
        "print(C)"
      ]
    },
    {
      "cell_type": "markdown",
      "id": "3a56ef97",
      "metadata": {
        "id": "3a56ef97"
      },
      "source": [
        " Broadcasting refers to the ability of NumPy to treat arrays of different shapes during arithmetic operations.\n",
        " If the dimensions of two arrays are dissimilar, element-to-element operations are not possible. However, operations on arrays of non-similar shapes is still possible in NumPy, because of the broadcasting capability. The smaller array is broadcast to the size of the larger array so that they have compatible shapes."
      ]
    },
    {
      "cell_type": "markdown",
      "id": "e84afa50",
      "metadata": {
        "id": "e84afa50"
      },
      "source": [
        "### Question 13: Write a function to compute the argmin of a numpy array. The function should take a numpy array as input and return the index of the minimum element. You can use the np.argmin function to verify your solution."
      ]
    },
    {
      "cell_type": "markdown",
      "id": "d7c80727",
      "metadata": {
        "id": "d7c80727"
      },
      "source": [
        "np.argmin returns the indices of the minimum values along an axis."
      ]
    },
    {
      "cell_type": "code",
      "execution_count": 159,
      "id": "9bcf383f",
      "metadata": {
        "colab": {
          "base_uri": "https://localhost:8080/"
        },
        "id": "9bcf383f",
        "outputId": "696f132a-be1a-4039-b5e8-7e46e4b173be"
      },
      "outputs": [
        {
          "output_type": "stream",
          "name": "stdout",
          "text": [
            "[[64 25 62 15 98]\n",
            " [31 77 46 97 76]\n",
            " [28 85 96 22  2]\n",
            " [40 46 33 34 96]\n",
            " [37 89 44 60  1]]\n",
            "[64, 25, 62, 15, 98, 31, 77, 46, 97, 76, 28, 85, 96, 22, 2, 40, 46, 33, 34, 96, 37, 89, 44, 60, 1]\n",
            "\n",
            "Indices of min element :  24\n"
          ]
        }
      ],
      "source": [
        "import numpy as np\n",
        "def min_ele(array):\n",
        "    l1=list(array.flatten())\n",
        "    print(l1)\n",
        "    min=l1[0]\n",
        "    cell=0\n",
        "    n=len(l1)\n",
        "    for i in range(1,n):\n",
        "      if min>l1[i]:\n",
        "        min=l1[i]\n",
        "        cell=i\n",
        "      else:\n",
        "        min=min\n",
        "    return cell\n",
        "\n",
        "\n",
        "array = np.random.randint(1,100,size=(5,5))\n",
        "print(array)\n",
        "print(\"\\nIndices of min element : \", min_ele(array))\n"
      ]
    },
    {
      "cell_type": "code",
      "execution_count": 160,
      "id": "1f28479a",
      "metadata": {
        "colab": {
          "base_uri": "https://localhost:8080/"
        },
        "id": "1f28479a",
        "outputId": "eed5d81d-f627-49eb-a38d-0e075a656cb0"
      },
      "outputs": [
        {
          "output_type": "stream",
          "name": "stdout",
          "text": [
            "\n",
            "Indices of min element :  24\n"
          ]
        }
      ],
      "source": [
        "import numpy as np\n",
        "\n",
        "print(\"\\nIndices of min element : \", np.argmin(array))\n"
      ]
    },
    {
      "cell_type": "code",
      "source": [],
      "metadata": {
        "id": "wk5tIImV7wLR"
      },
      "id": "wk5tIImV7wLR",
      "execution_count": null,
      "outputs": []
    }
  ],
  "metadata": {
    "kernelspec": {
      "display_name": "Python 3 (ipykernel)",
      "language": "python",
      "name": "python3"
    },
    "language_info": {
      "codemirror_mode": {
        "name": "ipython",
        "version": 3
      },
      "file_extension": ".py",
      "mimetype": "text/x-python",
      "name": "python",
      "nbconvert_exporter": "python",
      "pygments_lexer": "ipython3",
      "version": "3.9.13"
    },
    "colab": {
      "provenance": [],
      "include_colab_link": true
    }
  },
  "nbformat": 4,
  "nbformat_minor": 5
}